{
  "nbformat": 4,
  "nbformat_minor": 0,
  "metadata": {
    "colab": {
      "provenance": []
    },
    "kernelspec": {
      "name": "python3",
      "display_name": "Python 3"
    },
    "language_info": {
      "name": "python"
    }
  },
  "cells": [
    {
      "cell_type": "markdown",
      "source": [
        "#ASSIGNMENT_12\n",
        "\n"
      ],
      "metadata": {
        "id": "xOALuDp2qnG_"
      }
    },
    {
      "cell_type": "markdown",
      "source": [
        "1. In what modes should the PdfFileReader() and PdfFileWriter() File objects will be opened?"
      ],
      "metadata": {
        "id": "e0g3WLWSqq6x"
      }
    },
    {
      "cell_type": "markdown",
      "source": [
        "ANS:\n",
        "\n",
        "PdfFileReader() needs to be opened in read-binary mode by passing 'rb' as the second argument to open(). Likewise, the File object passed to PyPDF2. PdfFileWriter() needs to be opened in write-binary mode with 'wb'.\n",
        "\n"
      ],
      "metadata": {
        "id": "KyULFEIwq4Jj"
      }
    },
    {
      "cell_type": "markdown",
      "source": [
        "2. From a PdfFileReader object, how do you get a Page object for page 5?\n",
        "\n",
        "ANS:\n",
        "\n",
        "Calling getPage(4) will return a page object for page 5, since page 0 is the first page.\n",
        "\n"
      ],
      "metadata": {
        "id": "7MdZex4fq6g-"
      }
    },
    {
      "cell_type": "markdown",
      "source": [
        "3. What PdfFileReader variable stores the number of pages in the PDF document?\n",
        "\n",
        "ANS:\n",
        "\n",
        "The total number of pages in the document is stored in the numPages variable of a PdfFileReader object.\n",
        "\n"
      ],
      "metadata": {
        "id": "xrX5cxfUrDDC"
      }
    },
    {
      "cell_type": "markdown",
      "source": [
        "4. If a PdfFileReader object’s PDF is encrypted with the password swordfish, what must you do before you can obtain Page objects from it?\n",
        "\n",
        "ANS:\n",
        "\n",
        "To read an encrypted PDF, call the decrypt() function and pass the password as a string, in our case it is swordfish. After we call decrypt() with the correct password, you’ll see that calling getPage() no longer causes an error. Call decrypt('swordfish').\n",
        "\n"
      ],
      "metadata": {
        "id": "LVjTr_aprLU9"
      }
    },
    {
      "cell_type": "markdown",
      "source": [
        "5. What methods do you use to rotate a page?\n",
        "\n",
        "ANS:\n",
        "\n",
        "The pages of a PDF can be rotated in 90-degree increments with the rotateClockwise() and rotateCounterClockwise() methods.\n",
        "\n"
      ],
      "metadata": {
        "id": "zOFsaxWfrU9T"
      }
    },
    {
      "cell_type": "markdown",
      "source": [
        "6. What is the difference between a Run object and a Paragraph object?\n",
        "\n",
        "ANS:\n",
        "\n",
        "A document contains multiple paragraphs. A paragraph begins on a new line and contains multiple runs. Runs are contiguous groups of charecters within a paragraph.\n",
        "\n"
      ],
      "metadata": {
        "id": "Ht0l52Nprc0k"
      }
    },
    {
      "cell_type": "markdown",
      "source": [
        "7. How do you obtain a list of Paragraph objects for a Document object that’s stored in a variable named doc?\n",
        "\n",
        "ANS:\n",
        "\n",
        "len(doc.paragraphs)\n",
        "\n"
      ],
      "metadata": {
        "id": "X9u-OWk_rkqN"
      }
    },
    {
      "cell_type": "markdown",
      "source": [
        "8. What is the difference between False, True, and None for the bold variable?\n",
        "\n",
        "ANS:\n",
        "\n",
        "Run Object\n",
        "\n"
      ],
      "metadata": {
        "id": "mTFpic3ersm7"
      }
    },
    {
      "cell_type": "markdown",
      "source": [
        "9. What is the difference between False, True, and None for the bold variable?\n",
        "\n",
        "\n",
        "ANS:\n",
        "\n",
        "True always makes the run object bolded and False makes it always not bolded, no matter what the style's bold settings is. None will make the Run object just use the style's bold settings.\n",
        "\n"
      ],
      "metadata": {
        "id": "0yl-zV9Wr7Gf"
      }
    },
    {
      "cell_type": "markdown",
      "source": [
        "10. How do you create a Document object for a new Word document?\n",
        "\n",
        "ANS:\n",
        "\n",
        "mydoc = docx.Document()\n",
        "\n"
      ],
      "metadata": {
        "id": "-Ed0DP5gsEJz"
      }
    },
    {
      "cell_type": "markdown",
      "source": [
        "11.How do you add a paragraph with the text 'Hello, there!' to a Document object stored in a variable named doc?\n",
        "\n",
        "ANS:\n",
        "\n",
        "doc.add_paragraph('Hello, there!')"
      ],
      "metadata": {
        "id": "H8I_YDfNsMgo"
      }
    },
    {
      "cell_type": "markdown",
      "source": [
        "12. What integers represent the levels of headings available in Word documents?\n",
        "\n",
        "ANS:\n",
        "\n",
        "The arguments to add_heading() are a string of the heading text and an integer from 0 to 4. The integer 0 makes the heading the Title style, which is used for the top of the document. Integers 1 to 4 are for various heading levels, with 1 being the main heading and 4 the lowest subheading. The add_heading() function returns a Paragraph object to save you the step of extracting it from the Document object as a separate step."
      ],
      "metadata": {
        "id": "w5yuYnuSsW5R"
      }
    },
    {
      "cell_type": "code",
      "execution_count": null,
      "metadata": {
        "id": "LFq0mojhqjmG"
      },
      "outputs": [],
      "source": []
    }
  ]
}