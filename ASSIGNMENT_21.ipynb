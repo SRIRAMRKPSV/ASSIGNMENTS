{
  "nbformat": 4,
  "nbformat_minor": 0,
  "metadata": {
    "colab": {
      "provenance": []
    },
    "kernelspec": {
      "name": "python3",
      "display_name": "Python 3"
    },
    "language_info": {
      "name": "python"
    }
  },
  "cells": [
    {
      "cell_type": "markdown",
      "source": [
        "#ASSIGNMENT_21"
      ],
      "metadata": {
        "id": "o691Kwi8Cupt"
      }
    },
    {
      "cell_type": "markdown",
      "source": [
        "1. Add the current date to the text file today.txt as a string.\n"
      ],
      "metadata": {
        "id": "qMQnaXRQCuon"
      }
    },
    {
      "cell_type": "code",
      "source": [
        "import datetime\n",
        "# Code to Add current date to the today.txt file\n",
        "file = open('today.txt','w')\n",
        "file.write(datetime.datetime.now().strftime(\"%d-%m-%Y\"))\n",
        "file.close()\n",
        "# Code to Read current date from today.txt file\n",
        "file = open('today.txt','r')\n",
        "print(file.read())\n",
        "file.close()"
      ],
      "metadata": {
        "colab": {
          "base_uri": "https://localhost:8080/"
        },
        "id": "bKv4v9ASDKZc",
        "outputId": "cdaca105-c6c0-4561-d050-4f2e18e97ccb"
      },
      "execution_count": 2,
      "outputs": [
        {
          "output_type": "stream",
          "name": "stdout",
          "text": [
            "04-04-2023\n"
          ]
        }
      ]
    },
    {
      "cell_type": "markdown",
      "source": [
        "2. Read the text file today.txt into the string today_string\n"
      ],
      "metadata": {
        "id": "zrVU-9OIDPdY"
      }
    },
    {
      "cell_type": "code",
      "source": [
        "file = open('today.txt','r')\n",
        "today_string = file.read()\n",
        "print(today_string)"
      ],
      "metadata": {
        "colab": {
          "base_uri": "https://localhost:8080/"
        },
        "id": "6ZEJx9nlDP9F",
        "outputId": "5626daf3-ab73-4cdf-9679-4ee33016f695"
      },
      "execution_count": 3,
      "outputs": [
        {
          "output_type": "stream",
          "name": "stdout",
          "text": [
            "04-04-2023\n"
          ]
        }
      ]
    },
    {
      "cell_type": "markdown",
      "source": [
        "3. Parse the date from today_string.\n"
      ],
      "metadata": {
        "id": "fbqJlYzQDQkV"
      }
    },
    {
      "cell_type": "code",
      "source": [
        "from datetime import datetime\n",
        "parsed_data = datetime.strptime(today_string, '%d-%m-%Y')\n",
        "print(parsed_data)"
      ],
      "metadata": {
        "colab": {
          "base_uri": "https://localhost:8080/"
        },
        "id": "MHeabHu1DRJ9",
        "outputId": "d2f64951-2230-4eaa-fbcd-0ec549b67162"
      },
      "execution_count": 4,
      "outputs": [
        {
          "output_type": "stream",
          "name": "stdout",
          "text": [
            "2023-04-04 00:00:00\n"
          ]
        }
      ]
    },
    {
      "cell_type": "code",
      "execution_count": 11,
      "metadata": {
        "colab": {
          "base_uri": "https://localhost:8080/"
        },
        "id": "6HbNcykbCqJm",
        "outputId": "0835c722-94e9-44b6-ccc7-4a0f6893e823"
      },
      "outputs": [
        {
          "output_type": "stream",
          "name": "stdout",
          "text": [
            "ASSIGNMENT_19.ipynb\n",
            "ASSIGNMENT_16 (1).ipynb\n",
            "ASSIGNMENT_17.ipynb\n",
            "Heart_disease_prediction.ipynb\n",
            "ASSIGNMENT_20.ipynb\n",
            "today.txt\n",
            "config_sentinel\n",
            "active_config\n",
            ".last_survey_prompt.yaml\n",
            "gce\n",
            ".last_update_check.json\n",
            ".last_opt_in_prompt.yaml\n",
            "13.36.31.796127.log\n",
            "13.36.32.568709.log\n",
            "13.36.07.181242.log\n",
            "13.35.59.060098.log\n",
            "13.35.35.172322.log\n",
            "13.35.09.513600.log\n",
            "config_default\n",
            "README.md\n",
            "anscombe.json\n",
            "california_housing_train.csv\n",
            "california_housing_test.csv\n",
            "mnist_train_small.csv\n",
            "mnist_test.csv\n"
          ]
        }
      ],
      "source": [
        "import os\n",
        "for folders, subfolders, files in os.walk(os.getcwd()):\n",
        "    for file in files:\n",
        "        print(file)"
      ]
    },
    {
      "cell_type": "markdown",
      "source": [
        "5. Create a list of all of the files in your parent directory (minimum five files should be available).\n"
      ],
      "metadata": {
        "id": "tOn-tNR_DjTr"
      }
    },
    {
      "cell_type": "code",
      "source": [
        "import os \n",
        "os.listdir()"
      ],
      "metadata": {
        "colab": {
          "base_uri": "https://localhost:8080/"
        },
        "id": "D5_RZPBFC5yZ",
        "outputId": "e0a43a12-1600-4bab-9163-5915dae8f226"
      },
      "execution_count": 6,
      "outputs": [
        {
          "output_type": "execute_result",
          "data": {
            "text/plain": [
              "['.config',\n",
              " 'ASSIGNMENT_19.ipynb',\n",
              " 'ASSIGNMENT_16 (1).ipynb',\n",
              " 'ASSIGNMENT_17.ipynb',\n",
              " 'Heart_disease_prediction.ipynb',\n",
              " 'ASSIGNMENT_20.ipynb',\n",
              " 'today.txt',\n",
              " 'sample_data']"
            ]
          },
          "metadata": {},
          "execution_count": 6
        }
      ]
    },
    {
      "cell_type": "markdown",
      "source": [
        "6. Use multiprocessing to create three separate processes. Make each one wait a random number of seconds between one and five, print the current time, and then exit.\n"
      ],
      "metadata": {
        "id": "w24eVyKMD5BY"
      }
    },
    {
      "cell_type": "code",
      "source": [
        "import multiprocessing\n",
        "import time \n",
        "import random\n",
        "import datetime\n",
        "\n",
        "def procOne():\n",
        "    print(f'Proc_one_Starttime -> {datetime.datetime.now()}')\n",
        "    time.sleep(random.randint(1,5))\n",
        "    print(f'Proc_one_Endtime -> {datetime.datetime.now()}')\n",
        "    \n",
        "def procTwo():\n",
        "    print(f'Proc_two_Starttime -> {datetime.datetime.now()}')\n",
        "    time.sleep(random.randint(1,5))\n",
        "    print(f'Proc_two_Endtime -> {datetime.datetime.now()}')\n",
        "\n",
        "def procThree():\n",
        "    print(f'Proc_two_Starttime -> {datetime.datetime.now()}')\n",
        "    time.sleep(random.randint(1,5))\n",
        "    print(f'Proc_two_Endtime -> {datetime.datetime.now()}')\n",
        "    \n",
        "if __name__ == \"__main__\":    \n",
        "    p1 = multiprocessing.Process(target=procOne)\n",
        "    p2 = multiprocessing.Process(target=procTwo)\n",
        "    p3 = multiprocessing.Process(target=procThree)\n",
        "\n",
        "    p1.start()\n",
        "    p2.start()\n",
        "    p3.start()\n",
        "\n",
        "    p1.join()\n",
        "    p2.join()\n",
        "    p3.join()"
      ],
      "metadata": {
        "colab": {
          "base_uri": "https://localhost:8080/"
        },
        "id": "eI78gbVmDm-G",
        "outputId": "5749e1da-b653-4356-a256-bfb2b7c474c7"
      },
      "execution_count": 7,
      "outputs": [
        {
          "output_type": "stream",
          "name": "stdout",
          "text": [
            "Proc_one_Starttime -> 2023-04-04 16:19:32.702730\n",
            "Proc_two_Starttime -> 2023-04-04 16:19:32.716085\n",
            "Proc_two_Starttime -> 2023-04-04 16:19:32.734612\n",
            "Proc_one_Endtime -> 2023-04-04 16:19:33.713697\n",
            "Proc_two_Endtime -> 2023-04-04 16:19:34.731498\n",
            "Proc_two_Endtime -> 2023-04-04 16:19:35.749713\n"
          ]
        }
      ]
    },
    {
      "cell_type": "markdown",
      "source": [
        "7. Create a date object of your day of birth.\n"
      ],
      "metadata": {
        "id": "dgicnbNdEJb3"
      }
    },
    {
      "cell_type": "code",
      "source": [
        "from datetime import datetime\n",
        "my_dob = datetime.strptime('04/03/2000','%d/%m/%Y')\n",
        "print(my_dob, type(my_dob))"
      ],
      "metadata": {
        "colab": {
          "base_uri": "https://localhost:8080/"
        },
        "id": "orA3RDORECda",
        "outputId": "cff8b823-eb99-4d28-88a5-98e0481769ee"
      },
      "execution_count": 8,
      "outputs": [
        {
          "output_type": "stream",
          "name": "stdout",
          "text": [
            "2000-03-04 00:00:00 <class 'datetime.datetime'>\n"
          ]
        }
      ]
    },
    {
      "cell_type": "markdown",
      "source": [
        "8. What day of the week was your day of birth?\n"
      ],
      "metadata": {
        "id": "T8eSc1TYEbJt"
      }
    },
    {
      "cell_type": "code",
      "source": [
        "from datetime import datetime\n",
        "my_dob = datetime(2000,3,4)\n",
        "my_dob.strftime(\"%A\")"
      ],
      "metadata": {
        "colab": {
          "base_uri": "https://localhost:8080/",
          "height": 35
        },
        "id": "icSIrn03ET8M",
        "outputId": "bf1d82f6-23c2-4789-d388-9b5f25c1f012"
      },
      "execution_count": 9,
      "outputs": [
        {
          "output_type": "execute_result",
          "data": {
            "text/plain": [
              "'Saturday'"
            ],
            "application/vnd.google.colaboratory.intrinsic+json": {
              "type": "string"
            }
          },
          "metadata": {},
          "execution_count": 9
        }
      ]
    },
    {
      "cell_type": "markdown",
      "source": [
        "9. When will you be (or when were you) 10,000 days old?\n"
      ],
      "metadata": {
        "id": "5XB7slZ2Elni"
      }
    },
    {
      "cell_type": "code",
      "source": [
        "from datetime import datetime, timedelta\n",
        "my_dob = datetime.strptime(\"04/03/2000\",'%d/%m/%Y')\n",
        "future_date = my_dob-timedelta(10000)\n",
        "future_date"
      ],
      "metadata": {
        "colab": {
          "base_uri": "https://localhost:8080/"
        },
        "id": "_Pfdvq7xEhwS",
        "outputId": "c23d8e8a-4bbf-4be8-f6f4-652ace9a49a2"
      },
      "execution_count": 10,
      "outputs": [
        {
          "output_type": "execute_result",
          "data": {
            "text/plain": [
              "datetime.datetime(1972, 10, 17, 0, 0)"
            ]
          },
          "metadata": {},
          "execution_count": 10
        }
      ]
    }
  ]
}