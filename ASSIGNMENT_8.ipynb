{
  "nbformat": 4,
  "nbformat_minor": 0,
  "metadata": {
    "colab": {
      "provenance": []
    },
    "kernelspec": {
      "name": "python3",
      "display_name": "Python 3"
    },
    "language_info": {
      "name": "python"
    }
  },
  "cells": [
    {
      "cell_type": "markdown",
      "source": [
        "#ASSIGNMENT_8"
      ],
      "metadata": {
        "id": "kUB1rmNN-t3Z"
      }
    },
    {
      "cell_type": "markdown",
      "source": [
        "1. Is the Python Standard Library included with PyInputPlus?\n",
        "\n",
        "ANS:\n",
        "\n",
        " No, PyInputPlus is not a part of Python Standard Library, it needs to be installed explicitly using the command  \n",
        " !pip install PyInputPlus.\n",
        "\n"
      ],
      "metadata": {
        "id": "cWNdmPfz-weE"
      }
    },
    {
      "cell_type": "markdown",
      "source": [
        "2. Why is PyInputPlus commonly imported with import pyinputplus as pypi?\n",
        "\n",
        "ANS:\n",
        "\n",
        " You can import the module with import pyinputplus as pyip so that you can enter a shorter name when calling the module's functions.\n"
      ],
      "metadata": {
        "id": "dq_UxL8Q-4hu"
      }
    },
    {
      "cell_type": "markdown",
      "source": [
        "3. How do you distinguish between inputInt() and inputFloat()?\n",
        "\n",
        "ANS:\n",
        "\n",
        " inputInt() function Accepts an integer value. This also takes additional parameters min, max, greaterThan and lessThan for bounds. And it always returns an int.\n",
        "\n",
        "Whereas inputFloat() function Accepts a floating-point numeric value. this also takes additional min, max, greaterThan and lessThan parameters. and always returns a float.\n"
      ],
      "metadata": {
        "id": "gnqfgEQF-9zb"
      }
    },
    {
      "cell_type": "markdown",
      "source": [
        "4. Using PyInputPlus, how do you ensure that the user enters a whole number between 0 and 99?\n",
        "\n",
        "ANS:\n",
        "\n",
        " PyInputPlus module provides a function called as inputInt() which only returns only integer values. inorder to restrict the input between 0 and 99, i'ii use parameters like min & max to ensure that user enters the values between the defined range only.\n"
      ],
      "metadata": {
        "id": "M2gQ_CTc_FuP"
      }
    },
    {
      "cell_type": "code",
      "source": [
        "pip install pyinputplus"
      ],
      "metadata": {
        "colab": {
          "base_uri": "https://localhost:8080/"
        },
        "id": "SS0unWXV_uYE",
        "outputId": "7dd99480-aa1f-4ecb-ac0c-4a5eed6b7be9"
      },
      "execution_count": 3,
      "outputs": [
        {
          "output_type": "stream",
          "name": "stdout",
          "text": [
            "Looking in indexes: https://pypi.org/simple, https://us-python.pkg.dev/colab-wheels/public/simple/\n",
            "Collecting pyinputplus\n",
            "  Downloading PyInputPlus-0.2.12.tar.gz (20 kB)\n",
            "  Installing build dependencies ... \u001b[?25l\u001b[?25hdone\n",
            "  Getting requirements to build wheel ... \u001b[?25l\u001b[?25hdone\n",
            "  Preparing metadata (pyproject.toml) ... \u001b[?25l\u001b[?25hdone\n",
            "Collecting stdiomask>=0.0.3\n",
            "  Downloading stdiomask-0.0.6.tar.gz (3.6 kB)\n",
            "  Installing build dependencies ... \u001b[?25l\u001b[?25hdone\n",
            "  Getting requirements to build wheel ... \u001b[?25l\u001b[?25hdone\n",
            "  Preparing metadata (pyproject.toml) ... \u001b[?25l\u001b[?25hdone\n",
            "Collecting pysimplevalidate>=0.2.7\n",
            "  Downloading PySimpleValidate-0.2.12.tar.gz (22 kB)\n",
            "  Installing build dependencies ... \u001b[?25l\u001b[?25hdone\n",
            "  Getting requirements to build wheel ... \u001b[?25l\u001b[?25hdone\n",
            "  Preparing metadata (pyproject.toml) ... \u001b[?25l\u001b[?25hdone\n",
            "Building wheels for collected packages: pyinputplus, pysimplevalidate, stdiomask\n",
            "  Building wheel for pysimplevalidate (pyproject.toml) ... \u001b[?25l\u001b[?25hdone\n",
            "  Created wheel for pysimplevalidate: filename=PySimpleValidate-0.2.12-py3-none-any.whl size=16187 sha256=6f51874cfe240cf2899779a2ff1657da2d861ee07b5c889987fd36a960950033\n",
            "  Stored in directory: /root/.cache/pip/wheels/b1/44/4a/043a4f4c4512c7cdfb0c2b8408b18b0de5fd45cac57f5dfa02\n",
            "  Building wheel for stdiomask (pyproject.toml) ... \u001b[?25l\u001b[?25hdone\n",
            "  Created wheel for stdiomask: filename=stdiomask-0.0.6-py3-none-any.whl size=3318 sha256=48e0b722ceb1f14ac7742a9325743b15c48428bb2cce584c05f9ff2c0d523735\n",
            "  Stored in directory: /root/.cache/pip/wheels/1d/aa/47/f41f117d22c5de82e95d9342f44da578c80610739a2d5ebec4\n",
            "Successfully built pyinputplus pysimplevalidate stdiomask\n",
            "Installing collected packages: stdiomask, pysimplevalidate, pyinputplus\n",
            "Successfully installed pyinputplus-0.2.12 pysimplevalidate-0.2.12 stdiomask-0.0.6\n"
          ]
        }
      ]
    },
    {
      "cell_type": "code",
      "execution_count": 5,
      "metadata": {
        "colab": {
          "base_uri": "https://localhost:8080/"
        },
        "id": "XtHUH_sY-nO7",
        "outputId": "168cfdad-d593-4d72-be43-60967544833f"
      },
      "outputs": [
        {
          "output_type": "stream",
          "name": "stdout",
          "text": [
            "Enter a number: 50\n",
            "50\n"
          ]
        }
      ],
      "source": [
        "\n",
        "import pyinputplus as pyip\n",
        "wholenumber = pyip.inputInt(prompt='Enter a number: ', min=0, max=100)\n",
        "print(wholenumber)"
      ]
    },
    {
      "cell_type": "markdown",
      "source": [
        "5. What is transferred to the keyword arguments allowRegexes and blockRegexes?\n",
        "\n",
        "ANS:\n",
        "\n",
        " we can use allowRegexes and blockRegexes keyword arguments to take list of regular expression strings to determine what the pyinputplus function will reject or accept valid input.\n"
      ],
      "metadata": {
        "id": "LD-RymkQADe1"
      }
    },
    {
      "cell_type": "markdown",
      "source": [
        "6. If a blank input is entered three times, what does inputStr(limit=3) do?\n",
        "\n",
        "ANS:\n",
        "\n",
        " The statement inputStr(limit=3) will throw two exceptions ValidationException and RetryLimitException. The first exception is thrown because blank values are not allowed by inputStr() function by default. it we want to consider blank values as valid input, we have to set blank=True.\n",
        "\n",
        "The second exception is occured because we have reached the max limit we have specified by using limit parameter. inorder to avoid this exception we can use default parameter to return a default value when max limit is reached.\n"
      ],
      "metadata": {
        "id": "SsjKh1hlAWkM"
      }
    },
    {
      "cell_type": "markdown",
      "source": [
        "7. If blank input is entered three times, what does inputStr(limit=3, default='hello') do?\n",
        "\n",
        "ANS:\n",
        " Since the default parameter is set to hello. after blank input is entered three times instead of raising RetryLimitException exception. the function will return hello as response to the calling function"
      ],
      "metadata": {
        "id": "F7LZJxbeAdqC"
      }
    },
    {
      "cell_type": "code",
      "source": [],
      "metadata": {
        "id": "HTPHIhaj_NGw"
      },
      "execution_count": null,
      "outputs": []
    }
  ]
}