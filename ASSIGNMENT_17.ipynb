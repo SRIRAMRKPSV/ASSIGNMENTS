{
  "nbformat": 4,
  "nbformat_minor": 0,
  "metadata": {
    "colab": {
      "provenance": []
    },
    "kernelspec": {
      "name": "python3",
      "display_name": "Python 3"
    },
    "language_info": {
      "name": "python"
    }
  },
  "cells": [
    {
      "cell_type": "markdown",
      "source": [
        "#ASSIGNMENT_17"
      ],
      "metadata": {
        "id": "yM4I0uYO5rIl"
      }
    },
    {
      "cell_type": "markdown",
      "source": [
        "1. Assign the value 7 to the variable guess_me. Then, write the conditional tests (if, else, and elif) to print the string 'too low' if guess_me is less than 7, 'too high' if greater than 7, and 'just right' if equal to 7.\n"
      ],
      "metadata": {
        "id": "TvDTIq4O5vYG"
      }
    },
    {
      "cell_type": "code",
      "execution_count": 3,
      "metadata": {
        "colab": {
          "base_uri": "https://localhost:8080/"
        },
        "id": "VIQVIG5Y5jDE",
        "outputId": "19639e7e-3eee-40e0-f468-92d61b47079c"
      },
      "outputs": [
        {
          "output_type": "stream",
          "name": "stdout",
          "text": [
            "just Right\n",
            "too Low\n",
            "too High\n"
          ]
        }
      ],
      "source": [
        "def guess_me(guess_me):\n",
        "    if guess_me < 7:\n",
        "        print('too Low')\n",
        "    elif guess_me > 7:\n",
        "        print('too High')\n",
        "    else:\n",
        "        print('just Right')\n",
        "\n",
        "guess_me(guess_me=7)\n",
        "guess_me(guess_me=5)\n",
        "guess_me(guess_me=15)"
      ]
    },
    {
      "cell_type": "markdown",
      "source": [
        "2. Assign the value 7 to the variable guess_me and the value 1 to the variable start. Write a while loop that compares start with guess_me. Print too low if start is less than guess me. If start equals guess_me, print 'found it!' and exit the loop. If start is greater than guess_me, print 'oops' and exit the loop. Increment start at the end of the loop\n"
      ],
      "metadata": {
        "id": "wGKJqpNw6B8C"
      }
    },
    {
      "cell_type": "code",
      "source": [
        "guess_me = 7\n",
        "start = 1\n",
        "while True:\n",
        "    if start < guess_me:\n",
        "        print('too low')\n",
        "    elif start == guess_me:\n",
        "        print('found it')\n",
        "        break\n",
        "    else:\n",
        "        print('oops')\n",
        "        break\n",
        "    start += 1"
      ],
      "metadata": {
        "colab": {
          "base_uri": "https://localhost:8080/"
        },
        "id": "KTUOJhMU5-wV",
        "outputId": "2df64ecc-9773-4e4f-c3f2-27d07b08fedd"
      },
      "execution_count": 4,
      "outputs": [
        {
          "output_type": "stream",
          "name": "stdout",
          "text": [
            "too low\n",
            "too low\n",
            "too low\n",
            "too low\n",
            "too low\n",
            "too low\n",
            "found it\n"
          ]
        }
      ]
    },
    {
      "cell_type": "markdown",
      "source": [
        "3. Print the following values of the list [3, 2, 1, 0] using a for loop.\n"
      ],
      "metadata": {
        "id": "v0gbue2Y6PEW"
      }
    },
    {
      "cell_type": "code",
      "source": [
        "in_list = [3,2,1,0]\n",
        "for ele in in_list:\n",
        "    print(ele)"
      ],
      "metadata": {
        "colab": {
          "base_uri": "https://localhost:8080/"
        },
        "id": "xPIpv8YK6GE6",
        "outputId": "491c1bca-a625-4876-8326-fb610ec77308"
      },
      "execution_count": 5,
      "outputs": [
        {
          "output_type": "stream",
          "name": "stdout",
          "text": [
            "3\n",
            "2\n",
            "1\n",
            "0\n"
          ]
        }
      ]
    },
    {
      "cell_type": "markdown",
      "source": [
        "4. Use a list comprehension to make a list of the even numbers in range(10)\n"
      ],
      "metadata": {
        "id": "Ue4m71K36Uau"
      }
    },
    {
      "cell_type": "code",
      "source": [
        "print([x for x in range(10+1) if x%2==0 ])"
      ],
      "metadata": {
        "colab": {
          "base_uri": "https://localhost:8080/"
        },
        "id": "GjVc06eg6SC5",
        "outputId": "2ff38868-3570-4b31-f80c-f5e6919bcf20"
      },
      "execution_count": 6,
      "outputs": [
        {
          "output_type": "stream",
          "name": "stdout",
          "text": [
            "[0, 2, 4, 6, 8, 10]\n"
          ]
        }
      ]
    },
    {
      "cell_type": "markdown",
      "source": [
        "5. Use a dictionary comprehension to create the dictionary squares. Use range(10) to return the keys, and use the square of each key as its value.\n"
      ],
      "metadata": {
        "id": "SrhykEKQ6aQv"
      }
    },
    {
      "cell_type": "code",
      "source": [
        "# Method 1\n",
        "print(dict([(x,pow(x,2)) for x in range(10)]))\n",
        "# Method 2\n",
        "print({x:x**2 for x in range(10)})"
      ],
      "metadata": {
        "colab": {
          "base_uri": "https://localhost:8080/"
        },
        "id": "lxSjPjgB6Xl2",
        "outputId": "ceabdb1f-fd3d-4daf-a383-16d79a2ee817"
      },
      "execution_count": 7,
      "outputs": [
        {
          "output_type": "stream",
          "name": "stdout",
          "text": [
            "{0: 0, 1: 1, 2: 4, 3: 9, 4: 16, 5: 25, 6: 36, 7: 49, 8: 64, 9: 81}\n",
            "{0: 0, 1: 1, 2: 4, 3: 9, 4: 16, 5: 25, 6: 36, 7: 49, 8: 64, 9: 81}\n"
          ]
        }
      ]
    },
    {
      "cell_type": "markdown",
      "source": [
        "6. Construct the set odd from the odd numbers in the range using a set comprehension (10).\n"
      ],
      "metadata": {
        "id": "71qG3IX46ilq"
      }
    },
    {
      "cell_type": "code",
      "source": [
        "print({x for x in range(10) if x%2 !=0})"
      ],
      "metadata": {
        "colab": {
          "base_uri": "https://localhost:8080/"
        },
        "id": "2oqN9Q2L6fb7",
        "outputId": "d069e7d1-99c8-4e98-f2ad-1af35074b67e"
      },
      "execution_count": 8,
      "outputs": [
        {
          "output_type": "stream",
          "name": "stdout",
          "text": [
            "{1, 3, 5, 7, 9}\n"
          ]
        }
      ]
    },
    {
      "cell_type": "markdown",
      "source": [
        "7. Use a generator comprehension to return the string 'Got ' and a number for the numbers in range(10). Iterate through this by using a for loop\n"
      ],
      "metadata": {
        "id": "OI6IwJrM6nps"
      }
    },
    {
      "cell_type": "code",
      "source": [
        "gen_com = ('Got_'+str(x) for x in range(10))\n",
        "for ele in gen_com:\n",
        "    print(ele, end=' ')"
      ],
      "metadata": {
        "colab": {
          "base_uri": "https://localhost:8080/"
        },
        "id": "c1l-UTec6lLA",
        "outputId": "041a91bc-c887-4caf-db08-714bd04d88a2"
      },
      "execution_count": 9,
      "outputs": [
        {
          "output_type": "stream",
          "name": "stdout",
          "text": [
            "Got_0 Got_1 Got_2 Got_3 Got_4 Got_5 Got_6 Got_7 Got_8 Got_9 "
          ]
        }
      ]
    },
    {
      "cell_type": "markdown",
      "source": [
        "8. Define a function called good that returns the list ['Harry', 'Ron', 'Hermione'].\n"
      ],
      "metadata": {
        "id": "pM2BfiJv6tMC"
      }
    },
    {
      "cell_type": "code",
      "source": [
        "def good():\n",
        "    x =  ['Harry', 'Ron', 'Hermione']\n",
        "    return x\n",
        "print(good())"
      ],
      "metadata": {
        "colab": {
          "base_uri": "https://localhost:8080/"
        },
        "id": "10Tl3ibq6qr8",
        "outputId": "7f48727c-fa47-419e-c27d-ceacc4ecd67b"
      },
      "execution_count": 10,
      "outputs": [
        {
          "output_type": "stream",
          "name": "stdout",
          "text": [
            "['Harry', 'Ron', 'Hermione']\n"
          ]
        }
      ]
    },
    {
      "cell_type": "markdown",
      "source": [
        "9. Define a generator function called get_odds that returns the odd numbers from range(10). Use a for loop to find and print the third value returned.\n"
      ],
      "metadata": {
        "id": "ZdO-QdCb609d"
      }
    },
    {
      "cell_type": "code",
      "source": [
        "def get_odds():\n",
        "    output = []\n",
        "    for ele in range(10):\n",
        "        if ele%2 != 0:\n",
        "            output.append(ele)\n",
        "    yield output\n",
        "\n",
        "next(get_odds())[2]"
      ],
      "metadata": {
        "colab": {
          "base_uri": "https://localhost:8080/"
        },
        "id": "bAIaRa9K6vnL",
        "outputId": "baf48fe0-fbcf-419a-ed32-bff55f9682a9"
      },
      "execution_count": 11,
      "outputs": [
        {
          "output_type": "execute_result",
          "data": {
            "text/plain": [
              "5"
            ]
          },
          "metadata": {},
          "execution_count": 11
        }
      ]
    },
    {
      "cell_type": "markdown",
      "source": [
        "10. Define an exception called OopsException. Raise this exception to see what happens. Then write the code to catch this exception and print 'Caught an oops'.\n"
      ],
      "metadata": {
        "id": "sCj6XEh866u0"
      }
    },
    {
      "cell_type": "code",
      "source": [
        "class OopsException(Exception):\n",
        "    pass\n",
        "\n",
        "def test(input):\n",
        "    if input <0:\n",
        "        raise OopsException(a)\n",
        "try:\n",
        "    test(-100)\n",
        "except Exception as e:\n",
        "    print('Caught in Oops ->',e)"
      ],
      "metadata": {
        "colab": {
          "base_uri": "https://localhost:8080/"
        },
        "id": "xTqZ8j7_63ow",
        "outputId": "5b2d4500-55bf-4cc4-c04a-4a4c01552b58"
      },
      "execution_count": 12,
      "outputs": [
        {
          "output_type": "stream",
          "name": "stdout",
          "text": [
            "Caught in Oops -> name 'a' is not defined\n"
          ]
        }
      ]
    },
    {
      "cell_type": "markdown",
      "source": [
        "11. Use zip() to make a dictionary called movies that pairs these lists: titles = ['Creature of Habit', 'Crewel Fate'] and plots = ['A nun turns into a monster', 'A haunted yarn shop'].\n"
      ],
      "metadata": {
        "id": "wB-aY2Vc7CPB"
      }
    },
    {
      "cell_type": "code",
      "source": [
        "titles = ['Creature of Habit', 'Crewel Fate']\n",
        "plots = ['A nun turns into a monster', 'A haunted yarn shop']\n",
        "output = dict(zip(titles,plots))\n",
        "print(output)"
      ],
      "metadata": {
        "colab": {
          "base_uri": "https://localhost:8080/"
        },
        "id": "3y-Wwlc969cr",
        "outputId": "02995fbd-33a7-40b2-85c5-f39245d52a27"
      },
      "execution_count": 13,
      "outputs": [
        {
          "output_type": "stream",
          "name": "stdout",
          "text": [
            "{'Creature of Habit': 'A nun turns into a monster', 'Crewel Fate': 'A haunted yarn shop'}\n"
          ]
        }
      ]
    },
    {
      "cell_type": "code",
      "source": [],
      "metadata": {
        "id": "FjelRXl78LiN"
      },
      "execution_count": null,
      "outputs": []
    }
  ]
}