{
  "nbformat": 4,
  "nbformat_minor": 0,
  "metadata": {
    "colab": {
      "provenance": []
    },
    "kernelspec": {
      "name": "python3",
      "display_name": "Python 3"
    },
    "language_info": {
      "name": "python"
    }
  },
  "cells": [
    {
      "cell_type": "markdown",
      "source": [
        "#ASSIGNMENT_14"
      ],
      "metadata": {
        "id": "bkmCH04STUp9"
      }
    },
    {
      "cell_type": "markdown",
      "source": [
        "1. What does RGBA stand for?\n",
        "\n",
        "  Ans: RGBA is a four-channel format containing data for Red, Green, Blue, and an Alpha value. Where Alpha Represents the Opacity\n",
        "\n",
        "\n",
        "2. From the Pillow module, how do you get the RGBA value of any images?\n",
        "\n",
        "  Ans: ImageColor.getcolor() gives rgba value of any image\n",
        "\n",
        "\n",
        "3. What is a box tuple, and how does it work?\n",
        "\n",
        "  Ans: A box tuple is a tuple value of four integers: the left-edge x-coordinate, the top-edge y-coordinate,the width, and the height, respectively.\n",
        "\n",
        "\n",
        "4. Use your image and load in notebook then, How can you find out the width and height of an Image object?"
      ],
      "metadata": {
        "id": "95KUPdh-TUYl"
      }
    },
    {
      "cell_type": "code",
      "execution_count": 2,
      "metadata": {
        "colab": {
          "base_uri": "https://localhost:8080/"
        },
        "id": "_dJqWByXTQtb",
        "outputId": "2334b862-c32b-4091-eb0b-4945a2b0de43"
      },
      "outputs": [
        {
          "output_type": "stream",
          "name": "stdout",
          "text": [
            "Width, Height -> (1920, 1080)\n",
            "Width, Height -> 1920,1080\n",
            "Width, Height -> 1920,1080\n"
          ]
        }
      ],
      "source": [
        "from PIL import Image\n",
        "pic = Image.open('PIC.png')\n",
        "print(f'Width, Height -> {pic.size}') # Approach 1\n",
        "print(f'Width, Height -> {pic.width},{pic.height}') # Approach 2\n",
        "width,height = pic.size\n",
        "print(f'Width, Height -> {width},{height}') # Approach 3"
      ]
    },
    {
      "cell_type": "markdown",
      "source": [
        "5. What method would you call to get Image object for a 100×100 image, excluding the lower-left quarter of it?"
      ],
      "metadata": {
        "id": "83PTx8RIUNQp"
      }
    },
    {
      "cell_type": "code",
      "source": [
        "from PIL import Image\n",
        "img = Image.open('PIC.png')\n",
        "new_img = img.crop((0,50,50,50))"
      ],
      "metadata": {
        "id": "r1jJdx9VUFw9"
      },
      "execution_count": 3,
      "outputs": []
    },
    {
      "cell_type": "markdown",
      "source": [
        "6. After making changes to an Image object, how could you save it as an image file?"
      ],
      "metadata": {
        "id": "WpsIbsTbU1R3"
      }
    },
    {
      "cell_type": "code",
      "source": [
        "from PIL import Image\n",
        "pic = Image.open('PIC.png')\n",
        "pic.save('PIC_1.png')"
      ],
      "metadata": {
        "id": "_Ofak_WKUvyp"
      },
      "execution_count": 4,
      "outputs": []
    },
    {
      "cell_type": "markdown",
      "source": [
        "7. What module contains Pillow’s shape-drawing code?\n",
        "\n",
        "\n",
        "Ans: Pillows ImageDraw module contains Shape drawing methods."
      ],
      "metadata": {
        "id": "5LtvW9-sVNPn"
      }
    },
    {
      "cell_type": "markdown",
      "source": [
        "8. Image objects do not have drawing methods. What kind of object does? How do you get this kind of object?\n",
        "\n",
        "  Ans:\n",
        "\n",
        "   ImageDraw objects have shape-drawing methods such as point(), line(), or rectangle().They are returned by passing the Image object to the ImageDraw.Draw() function."
      ],
      "metadata": {
        "id": "-Gt4xt3YYnCT"
      }
    },
    {
      "cell_type": "code",
      "source": [],
      "metadata": {
        "id": "_nyL8KjmVIff"
      },
      "execution_count": null,
      "outputs": []
    }
  ]
}