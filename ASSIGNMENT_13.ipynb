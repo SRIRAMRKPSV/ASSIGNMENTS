{
  "nbformat": 4,
  "nbformat_minor": 0,
  "metadata": {
    "colab": {
      "provenance": []
    },
    "kernelspec": {
      "name": "python3",
      "display_name": "Python 3"
    },
    "language_info": {
      "name": "python"
    }
  },
  "cells": [
    {
      "cell_type": "markdown",
      "source": [
        "#ASSIGNMENT_13"
      ],
      "metadata": {
        "id": "4kCLwgNqOxgE"
      }
    },
    {
      "cell_type": "markdown",
      "source": [
        "1. What advantages do Excel spreadsheets have over CSV spreadsheets?\n",
        "\n",
        "Ans: \n",
        "The Advantages of Excel over CSV are:\n",
        "\n",
        "\n",
        "1. Excel (XLS and XLSX) file formats are better for storing and analysing complex data.\n",
        "\n",
        "2. An Excel not only stores data but can also do operations on the data using macros, formulas etc.\n",
        "\n",
        "3. CSV files are plain-text files, Does not contain formatting, formulas, macros, etc. It is also known as flat files."
      ],
      "metadata": {
        "id": "vVNMSHHnO6tg"
      }
    },
    {
      "cell_type": "markdown",
      "source": [
        "2.What do you pass to csv.reader() and csv.writer() to create reader and writer objects?"
      ],
      "metadata": {
        "id": "sV_CdtwMPXY7"
      }
    },
    {
      "cell_type": "code",
      "execution_count": 4,
      "metadata": {
        "id": "2MG9hAmuHbmf",
        "colab": {
          "base_uri": "https://localhost:8080/"
        },
        "outputId": "4d5974ea-fc29-4b32-ba47-30e3e3da7580"
      },
      "outputs": [
        {
          "output_type": "stream",
          "name": "stdout",
          "text": [
            "['Name', 'Age', 'Address']\n",
            "['sriram', '23', 'chennai']\n",
            "['ram', '24', 'bangalore']\n",
            "['sr', '23', 'usa']\n"
          ]
        }
      ],
      "source": [
        "import csv\n",
        "with open('text.csv','r') as file:\n",
        "    csv_file = csv.reader(file,delimiter=',')\n",
        "    for ele in csv_file:\n",
        "        print(ele)\n",
        "  "
      ]
    },
    {
      "cell_type": "markdown",
      "source": [
        "3. What modes do File objects for reader and writer objects need to be opened in?\n",
        "\n",
        " Ans: \n",
        "\n",
        "  For csv.reader(iterable_file_object), the file objects needed to be opened in read mode mode='r' Whereas for csv.writer(iterable_file_object) the file objects needed to be opened in write mode mode='w'."
      ],
      "metadata": {
        "id": "E3KpEwK5PhwF"
      }
    },
    {
      "cell_type": "markdown",
      "source": [
        "4. What method takes a list argument and writes it to a CSV file?\n",
        "\n",
        "    Ans:\n",
        "\n",
        "    csv.writer class provides two methods for writing to CSV. They are writerow() and writerows(). writerow() method writes a single row at a time. Whereas writerows() method is used to write multiple rows at a time."
      ],
      "metadata": {
        "id": "x7wMfI_jQwAZ"
      }
    },
    {
      "cell_type": "code",
      "source": [
        "import csv      \n",
        "fields = ['Name', 'Age', 'Year', 'CGPA'] #column names \n",
        "rows = [ \n",
        "            ['SRIRAM', '23', '2', '9.0'],  # data rows of csv file \n",
        "            ['RAM', '24', '2', '9.1'], \n",
        "            ['SR', '23', '2', '9.3']\n",
        "       ] \n",
        "with open(\"TEXT1.csv\", 'w') as csvfile: \n",
        "    csvwriter = csv.writer(csvfile) # creating a csv writer object \n",
        "    csvwriter.writerow(fields) # writing the fields \n",
        "    csvwriter.writerows(rows) # writing the data rows "
      ],
      "metadata": {
        "id": "dPHvJ8jLH1cb"
      },
      "execution_count": 5,
      "outputs": []
    },
    {
      "cell_type": "markdown",
      "source": [
        "5. What do the keyword arguments delimiter and line terminator do?\n",
        "\n",
        "Ans:\n",
        "\n",
        " Lets take the example of a csv file:\n",
        "\n",
        "First Name, Last Name, Age\n",
        "\n",
        "SRI, RAM, 24\n",
        "\n",
        "RAM, K, 23\n",
        "\n",
        "Here ',' is Delimiter. We can use any Character as per our needs if required. Similarly Line Terminator comes at end of line by default it is newline and can be changed accourding to Requirement."
      ],
      "metadata": {
        "id": "rZc1ip6CRRoQ"
      }
    },
    {
      "cell_type": "markdown",
      "source": [
        "6. What function takes a string of JSON data and returns a Python data structure?\n",
        "\n",
        "  Ans: \n",
        "  \n",
        "     loads() method takes a string of JSON data and returns a Python data structure"
      ],
      "metadata": {
        "id": "JztLfRQURkth"
      }
    },
    {
      "cell_type": "code",
      "source": [
        "# Example of json.loads() method\n",
        "import json\n",
        "my_details_json ='''{\n",
        "    \"Name\": \"SRI RAM\",\n",
        "    \"Qualification\": \"MASTER OF COMPUTER APPLICATION\",\n",
        "    \"Stream\": \"Computer Application\"\n",
        "}'''\n",
        "print(my_details_json)\n",
        "print(f'Type of my_details_json is {type(my_details_json)}')\n",
        "my_details = json.loads(my_details_json)\n",
        "print(my_details)\n",
        "print(f'Type of my_details is {type(my_details)}')"
      ],
      "metadata": {
        "id": "DpTAZHFCJLJc",
        "colab": {
          "base_uri": "https://localhost:8080/"
        },
        "outputId": "809055d6-1e0a-4d8d-b01b-4fe338cc8144"
      },
      "execution_count": 6,
      "outputs": [
        {
          "output_type": "stream",
          "name": "stdout",
          "text": [
            "{\n",
            "    \"Name\": \"SRI RAM\",\n",
            "    \"Qualification\": \"MASTER OF COMPUTER APPLICATION\",\n",
            "    \"Stream\": \"Computer Application\"\n",
            "}\n",
            "Type of my_details_json is <class 'str'>\n",
            "{'Name': 'SRI RAM', 'Qualification': 'MASTER OF COMPUTER APPLICATION', 'Stream': 'Computer Application'}\n",
            "Type of my_details is <class 'dict'>\n"
          ]
        }
      ]
    },
    {
      "cell_type": "markdown",
      "source": [
        "7. What function takes a Python data structure and returns a string of JSON data?\n",
        "\n",
        "  Ans:\n",
        "\n",
        "     dumps() method takes a python data structure and returns a string of JSON data"
      ],
      "metadata": {
        "id": "PKQEhsBGSGyh"
      }
    },
    {
      "cell_type": "code",
      "source": [
        "import json\n",
        "my_details = {\n",
        "    \"Name\": \"SRI RAM\",\n",
        "    \"Qualification\": \"MASTER OF COMPUTER APPLICATION\",\n",
        "    \"Stream\": \"Computer Application\"\n",
        "}\n",
        "print(my_details)\n",
        "print(f'Type of my_details is {type(my_details)}')\n",
        "my_details_json = json.dumps(my_details, indent=4, sort_keys=True)\n",
        "print(my_details_json)\n",
        "print(f'Type of my_details_json is {type(my_details_json)}')"
      ],
      "metadata": {
        "id": "6-KQBCwrJT5h",
        "colab": {
          "base_uri": "https://localhost:8080/"
        },
        "outputId": "e7d5e226-e13c-4ee5-a569-9dfe4bdfb905"
      },
      "execution_count": 7,
      "outputs": [
        {
          "output_type": "stream",
          "name": "stdout",
          "text": [
            "{'Name': 'SRI RAM', 'Qualification': 'MASTER OF COMPUTER APPLICATION', 'Stream': 'Computer Application'}\n",
            "Type of my_details is <class 'dict'>\n",
            "{\n",
            "    \"Name\": \"SRI RAM\",\n",
            "    \"Qualification\": \"MASTER OF COMPUTER APPLICATION\",\n",
            "    \"Stream\": \"Computer Application\"\n",
            "}\n",
            "Type of my_details_json is <class 'str'>\n"
          ]
        }
      ]
    },
    {
      "cell_type": "code",
      "source": [],
      "metadata": {
        "id": "GiacqB_AN9Se"
      },
      "execution_count": null,
      "outputs": []
    }
  ]
}