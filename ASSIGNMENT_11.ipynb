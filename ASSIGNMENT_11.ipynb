{
  "nbformat": 4,
  "nbformat_minor": 0,
  "metadata": {
    "colab": {
      "provenance": []
    },
    "kernelspec": {
      "name": "python3",
      "display_name": "Python 3"
    },
    "language_info": {
      "name": "python"
    }
  },
  "cells": [
    {
      "cell_type": "markdown",
      "source": [
        "#ASSIGNMENT_11"
      ],
      "metadata": {
        "id": "-x5dMKBDnJu_"
      }
    },
    {
      "cell_type": "markdown",
      "source": [
        "1.Create an assert statement that throws an AssertionError if the variable spam is a negative integer."
      ],
      "metadata": {
        "id": "tOWHvqVCnO14"
      }
    },
    {
      "cell_type": "code",
      "execution_count": 5,
      "metadata": {
        "colab": {
          "base_uri": "https://localhost:8080/",
          "height": 183
        },
        "id": "ZHIJfZlkm0mp",
        "outputId": "1043f1aa-1c0a-4578-b657-2de1bf60bd56"
      },
      "outputs": [
        {
          "output_type": "error",
          "ename": "AssertionError",
          "evalue": "ignored",
          "traceback": [
            "\u001b[0;31m---------------------------------------------------------------------------\u001b[0m",
            "\u001b[0;31mAssertionError\u001b[0m                            Traceback (most recent call last)",
            "\u001b[0;32m<ipython-input-5-9c08de2ce019>\u001b[0m in \u001b[0;36m<module>\u001b[0;34m\u001b[0m\n\u001b[1;32m      1\u001b[0m \u001b[0mSPAM\u001b[0m \u001b[0;34m=\u001b[0m \u001b[0;34m-\u001b[0m\u001b[0;36m44\u001b[0m\u001b[0;34m\u001b[0m\u001b[0;34m\u001b[0m\u001b[0m\n\u001b[0;32m----> 2\u001b[0;31m \u001b[0;32massert\u001b[0m \u001b[0mSPAM\u001b[0m \u001b[0;34m>\u001b[0m \u001b[0;36m0\u001b[0m\u001b[0;34m\u001b[0m\u001b[0;34m\u001b[0m\u001b[0m\n\u001b[0m",
            "\u001b[0;31mAssertionError\u001b[0m: "
          ]
        }
      ],
      "source": [
        "SPAM = -44\n",
        "assert SPAM > 0"
      ]
    },
    {
      "cell_type": "markdown",
      "source": [
        "2.Write an assert statement that triggers an AssertionError if the variables eggs and bacon contain strings that are the same as each other, even if their cases are different (that is, 'hello' and 'hello' are considered the same, and 'goodbye' and 'GOODbye' are also considered the same)."
      ],
      "metadata": {
        "id": "PfcYwCA0nvj6"
      }
    },
    {
      "cell_type": "code",
      "source": [
        "eggs = 'hello'\n",
        "bacon = 'Hello'\n",
        "\n",
        "assert eggs.lower() != bacon.lower(), 'The eggs and bacon variables are the same!' \n",
        "assert eggs.upper() != bacon.upper(), 'The eggs and bacon variables are the same!'"
      ],
      "metadata": {
        "colab": {
          "base_uri": "https://localhost:8080/",
          "height": 218
        },
        "id": "_qyP3KQmng0v",
        "outputId": "30b3c64c-8e36-4e4b-f428-ed4ea790ca5c"
      },
      "execution_count": 8,
      "outputs": [
        {
          "output_type": "error",
          "ename": "AssertionError",
          "evalue": "ignored",
          "traceback": [
            "\u001b[0;31m---------------------------------------------------------------------------\u001b[0m",
            "\u001b[0;31mAssertionError\u001b[0m                            Traceback (most recent call last)",
            "\u001b[0;32m<ipython-input-8-53586d290ac7>\u001b[0m in \u001b[0;36m<module>\u001b[0;34m\u001b[0m\n\u001b[1;32m      2\u001b[0m \u001b[0mbacon\u001b[0m \u001b[0;34m=\u001b[0m \u001b[0;34m'Hello'\u001b[0m\u001b[0;34m\u001b[0m\u001b[0;34m\u001b[0m\u001b[0m\n\u001b[1;32m      3\u001b[0m \u001b[0;34m\u001b[0m\u001b[0m\n\u001b[0;32m----> 4\u001b[0;31m \u001b[0;32massert\u001b[0m \u001b[0meggs\u001b[0m\u001b[0;34m.\u001b[0m\u001b[0mlower\u001b[0m\u001b[0;34m(\u001b[0m\u001b[0;34m)\u001b[0m \u001b[0;34m!=\u001b[0m \u001b[0mbacon\u001b[0m\u001b[0;34m.\u001b[0m\u001b[0mlower\u001b[0m\u001b[0;34m(\u001b[0m\u001b[0;34m)\u001b[0m\u001b[0;34m,\u001b[0m \u001b[0;34m'The eggs and bacon variables are the same!'\u001b[0m\u001b[0;34m\u001b[0m\u001b[0;34m\u001b[0m\u001b[0m\n\u001b[0m\u001b[1;32m      5\u001b[0m \u001b[0;32massert\u001b[0m \u001b[0meggs\u001b[0m\u001b[0;34m.\u001b[0m\u001b[0mupper\u001b[0m\u001b[0;34m(\u001b[0m\u001b[0;34m)\u001b[0m \u001b[0;34m!=\u001b[0m \u001b[0mbacon\u001b[0m\u001b[0;34m.\u001b[0m\u001b[0mupper\u001b[0m\u001b[0;34m(\u001b[0m\u001b[0;34m)\u001b[0m\u001b[0;34m,\u001b[0m \u001b[0;34m'The eggs and bacon variables are the same!'\u001b[0m\u001b[0;34m\u001b[0m\u001b[0;34m\u001b[0m\u001b[0m\n",
            "\u001b[0;31mAssertionError\u001b[0m: The eggs and bacon variables are the same!"
          ]
        }
      ]
    },
    {
      "cell_type": "markdown",
      "source": [
        "3. Create an assert statement that throws an AssertionError every time."
      ],
      "metadata": {
        "id": "BQ7mI2tFoYKD"
      }
    },
    {
      "cell_type": "code",
      "source": [
        "assert False, 'This assertion always triggers.'"
      ],
      "metadata": {
        "id": "j516CPmmn6t_"
      },
      "execution_count": 9,
      "outputs": []
    },
    {
      "cell_type": "markdown",
      "source": [
        "4. What are the two lines that must be present in your software in order to call logging.debug()?\n",
        "\n",
        "\n",
        "Ans:\n",
        "\n",
        "To be able to call logging.debug(), you must have these two lines at the start of your program:\n",
        "\n"
      ],
      "metadata": {
        "id": "ahqaxJOZoso3"
      }
    },
    {
      "cell_type": "code",
      "source": [
        "import logging\n",
        "logging.basicConfig(level=logging.DEBUG, format=' %(asctime)s -%(levelname)s - %(message)s')"
      ],
      "metadata": {
        "id": "zm1YZEfOohhy"
      },
      "execution_count": 10,
      "outputs": []
    },
    {
      "cell_type": "markdown",
      "source": [
        "5. What are the two lines that your program must have in order to have logging.debug() send a logging message to a file named programLog.txt?\n",
        "\n",
        "ANS:\n",
        "\n",
        "To be able to send logging messages to a file named programLog.txt with logging.debug(), you must have these two lines at the start of your program:\n",
        "\n"
      ],
      "metadata": {
        "id": "YAFyzoy6o8V2"
      }
    },
    {
      "cell_type": "code",
      "source": [
        "import logging\n",
        "logging.basicConfig(filename='programLog.txt', level=logging.DEBUG, format=' %(asctime)s - %(levelname)s - %(message)s')\n"
      ],
      "metadata": {
        "id": "057nON3Ho5mi"
      },
      "execution_count": 11,
      "outputs": []
    },
    {
      "cell_type": "markdown",
      "source": [
        "6. What are the five levels of logging?"
      ],
      "metadata": {
        "id": "l0JeJcO8pNuF"
      }
    },
    {
      "cell_type": "markdown",
      "source": [
        "ANS:\n",
        "\n",
        "DEBUG, INFO, WARNING, ERROR, and CRITICAL\n",
        "\n",
        "\n"
      ],
      "metadata": {
        "id": "MU7fosnEpRzR"
      }
    },
    {
      "cell_type": "markdown",
      "source": [
        "7. What line of code would you add to your software to disable all logging messages?\n",
        "\n",
        "ANS:\n",
        "\n",
        "logging.disable(logging.CRITICAL)\n",
        "\n"
      ],
      "metadata": {
        "id": "1vwiamKrpZH-"
      }
    },
    {
      "cell_type": "markdown",
      "source": [
        "8. Why is using logging messages better than using print() to display the same message?\n",
        "\n",
        "\n",
        "ANS:\n",
        "\n",
        "You can disable logging messages without removing the logging function calls. You can selectively disable lower-level logging messages. You can create logging messages. Logging messages provides a timestamp."
      ],
      "metadata": {
        "id": "HlS-iHoCpk-b"
      }
    },
    {
      "cell_type": "markdown",
      "source": [
        "9. What are the differences between the Step Over, Step In, and Step Out buttons in the debugger?"
      ],
      "metadata": {
        "id": "D0biVnQapvcb"
      }
    },
    {
      "cell_type": "markdown",
      "source": [
        "ANS:\n",
        "\n",
        "The Step button will move the debugger into a function call. The Over button will quickly execute the function call without stepping into it. The Out button will quickly execute the rest of the code until it steps out of the function it currently is in"
      ],
      "metadata": {
        "id": "PO39PEYopxLi"
      }
    },
    {
      "cell_type": "markdown",
      "source": [
        "10. After you click Continue, when will the debugger stop ?\n",
        "\n",
        "ANS:\n",
        "\n",
        "After you click Continue, the debugger will stop when it has reached the end of the program or a line with a breakpoint.\n",
        "\n"
      ],
      "metadata": {
        "id": "schUJXX5p50v"
      }
    },
    {
      "cell_type": "markdown",
      "source": [
        "11. What is the concept of a breakpoint?\n",
        "\n",
        "ANS:\n",
        "\n",
        "Breakpoint is a setting on a line of code that causes the debugger to pause when the program execution reaches the line.\n",
        "\n"
      ],
      "metadata": {
        "id": "S0NX-Crpp_fX"
      }
    },
    {
      "cell_type": "code",
      "source": [],
      "metadata": {
        "id": "qieYyionpJYi"
      },
      "execution_count": null,
      "outputs": []
    }
  ]
}