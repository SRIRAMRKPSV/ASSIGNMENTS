{
  "nbformat": 4,
  "nbformat_minor": 0,
  "metadata": {
    "colab": {
      "provenance": []
    },
    "kernelspec": {
      "name": "python3",
      "display_name": "Python 3"
    },
    "language_info": {
      "name": "python"
    }
  },
  "cells": [
    {
      "cell_type": "markdown",
      "source": [
        "#ASSIGNMENT_22"
      ],
      "metadata": {
        "id": "SQPeFSQYFOCh"
      }
    },
    {
      "cell_type": "markdown",
      "source": [
        "1. What is the result of the code, and explain?\n",
        "\n",
        ">>>X = 'iNeuron'\n",
        "\n",
        ">>> def func():\n",
        "\n",
        ">>> print(X)\n",
        "\n",
        ">>> func()\n",
        "\n",
        "Ans:   \n",
        "  \n",
        "  The Result of this code is iNeuron, it's because the function intially looks for the variable X in its local scope,But since there is no local variable X, its returns the value of global variable x ie iNeuron\n",
        "\n"
      ],
      "metadata": {
        "id": "iKs-ZqffFRDe"
      }
    },
    {
      "cell_type": "code",
      "execution_count": null,
      "metadata": {
        "id": "woPIBhXGFDkr"
      },
      "outputs": [],
      "source": [
        "X = 'iNeuron'\n",
        "def func():\n",
        "    print(X)\n",
        "func()"
      ]
    },
    {
      "cell_type": "markdown",
      "source": [
        "2. What is the result of the code, and explain?\n",
        "\n",
        " X = 'iNeuron'\n",
        "\n",
        " def func():\n",
        "\n",
        "  X = 'NI!'\n",
        "\n",
        " func()\n",
        "\n",
        " print(X)\n",
        "\n",
        "Ans: \n",
        "  \n",
        "  The Result of this cide is NI!, because the function initially looks for the variable X in its local scope if X is not available then it checks for variable X in the global scope, Since here the X is present in the local scope. it prints the value NI!\n",
        "\n"
      ],
      "metadata": {
        "id": "rOnxHPRkGyPi"
      }
    },
    {
      "cell_type": "code",
      "source": [
        "X = 'iNeuron'\n",
        "def func():\n",
        "    X = 'NI!'\n",
        "    print(X)\n",
        "func()"
      ],
      "metadata": {
        "colab": {
          "base_uri": "https://localhost:8080/"
        },
        "id": "Ml1VzA0FGXE-",
        "outputId": "324708cc-4b78-4abc-cc0b-afcaf7904064"
      },
      "execution_count": 1,
      "outputs": [
        {
          "output_type": "stream",
          "name": "stdout",
          "text": [
            "NI!\n"
          ]
        }
      ]
    },
    {
      "cell_type": "markdown",
      "source": [
        "3. What does this code print, and why?\n",
        "\n",
        ">>> X = 'iNeuron'\n",
        "\n",
        ">>> def func():\n",
        "\n",
        ">>> X = 'NI'\n",
        "\n",
        ">>> print(X)\n",
        "\n",
        ">>> func()\n",
        "\n",
        ">>> print(X)\n",
        "\n",
        "Ans: The output of the code is NI and iNeuron. X=NI is in the local scope of the function func() hence the function prints the x value as NI. X = 'iNeuron' is in the global scope. hence print(X) prints output as iNeuron\n",
        "\n"
      ],
      "metadata": {
        "id": "95kQE9_gHNAQ"
      }
    },
    {
      "cell_type": "code",
      "source": [
        "X = 'iNeuron'\n",
        "def func():\n",
        "    X = 'NI'\n",
        "    print(X)\n",
        "func()\n",
        "print(X)"
      ],
      "metadata": {
        "colab": {
          "base_uri": "https://localhost:8080/"
        },
        "id": "7YdHDSRWHJVC",
        "outputId": "6d130c8a-1d1c-4a3d-aa17-90176f0c2713"
      },
      "execution_count": 2,
      "outputs": [
        {
          "output_type": "stream",
          "name": "stdout",
          "text": [
            "NI\n",
            "iNeuron\n"
          ]
        }
      ]
    },
    {
      "cell_type": "markdown",
      "source": [
        "4. What output does this code produce? Why?\n",
        "\n",
        ">>> X = 'iNeuron'\n",
        "\n",
        ">>> def func():\n",
        "\n",
        ">>> global X\n",
        "\n",
        ">>> X = 'NI'\n",
        "\n",
        ">>> func()\n",
        "\n",
        ">>> print(X)\n",
        "\n",
        "Ans: \n",
        "\n",
        "  The output of the code is NI. the global keyword allows a variable to be accessible in the current scope. since we are using global keyword inside the function func it directly access the variable in X in global scope. and changes its value to NI. hence the output of the code is NI\n"
      ],
      "metadata": {
        "id": "yrJsjgOeHgMC"
      }
    },
    {
      "cell_type": "code",
      "source": [
        "\n",
        "X = 'iNeuron'\n",
        "def func():\n",
        "    global X\n",
        "    X = 'NI'\n",
        "func()\n",
        "print(X)"
      ],
      "metadata": {
        "colab": {
          "base_uri": "https://localhost:8080/"
        },
        "id": "hDMOvw2XHXhb",
        "outputId": "3f6c7904-e678-4d56-a19f-0f12494df0a5"
      },
      "execution_count": 3,
      "outputs": [
        {
          "output_type": "stream",
          "name": "stdout",
          "text": [
            "NI\n"
          ]
        }
      ]
    },
    {
      "cell_type": "markdown",
      "source": [
        "5. What about this code—what’s the output, and why?\n",
        ">>> X = 'iNeuron'\n",
        ">>> def func():\n",
        ">>> X = 'NI'\n",
        ">>> def nested():\n",
        ">>> print(X)\n",
        ">>> nested()\n",
        ">>> func()\n",
        ">>> X\n",
        "\n",
        "Ans: \n",
        "\n",
        "  The output of the code is NI. the reason for this output is if a function wants to access a variable, if its not available in its localscope. it looks for the variable in its global scope. similarly here also function nested looks for variable X in its global scope. hence the output of the code is NI\n",
        "\n"
      ],
      "metadata": {
        "id": "zDdXm11pHs7R"
      }
    },
    {
      "cell_type": "code",
      "source": [
        "X = 'iNeuron'\n",
        "def func():\n",
        "    X = 'NI'\n",
        "    def nested():\n",
        "        print(X)\n",
        "    nested()\n",
        "func()\n",
        "X"
      ],
      "metadata": {
        "colab": {
          "base_uri": "https://localhost:8080/",
          "height": 52
        },
        "id": "Ky8XvKXqHqLQ",
        "outputId": "e9b974c9-e26d-4d16-b622-28497a202407"
      },
      "execution_count": 4,
      "outputs": [
        {
          "output_type": "stream",
          "name": "stdout",
          "text": [
            "NI\n"
          ]
        },
        {
          "output_type": "execute_result",
          "data": {
            "text/plain": [
              "'iNeuron'"
            ],
            "application/vnd.google.colaboratory.intrinsic+json": {
              "type": "string"
            }
          },
          "metadata": {},
          "execution_count": 4
        }
      ]
    },
    {
      "cell_type": "markdown",
      "source": [
        "6. How about this code: what is its output in Python 3, and explain?\n",
        "\n",
        " def func():\n",
        "\n",
        "X = 'NI'\n",
        "\n",
        "def nested():\n",
        "\n",
        "nonlocal X\n",
        "\n",
        "X = 'Spam'\n",
        "\n",
        "nested()\n",
        "\n",
        "print(X)\n",
        "\n",
        "func()\n",
        "\n",
        "\n",
        "Ans: \n",
        "\n",
        "  The output of the code is Spam. nonlocal keyword in python is used to declare a variable as not local.Hence the statement X = \"Spam\" is modified in the global scope. hence the output of print(X) statement is Spam\n",
        "\n"
      ],
      "metadata": {
        "id": "CVpDUgPdIc1k"
      }
    },
    {
      "cell_type": "code",
      "source": [
        "def func():\n",
        "    X = 'NI'\n",
        "    def nested():\n",
        "        nonlocal X\n",
        "        X = 'Spam'\n",
        "    nested()\n",
        "    print(X)\n",
        "func()"
      ],
      "metadata": {
        "colab": {
          "base_uri": "https://localhost:8080/"
        },
        "id": "dk_EZBnGH09D",
        "outputId": "2fc74045-b552-4101-bdc1-6d912a186aa2"
      },
      "execution_count": 5,
      "outputs": [
        {
          "output_type": "stream",
          "name": "stdout",
          "text": [
            "Spam\n"
          ]
        }
      ]
    },
    {
      "cell_type": "code",
      "source": [],
      "metadata": {
        "id": "lTeKSCzYIh4A"
      },
      "execution_count": null,
      "outputs": []
    }
  ]
}