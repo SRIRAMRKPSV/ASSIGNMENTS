{
  "nbformat": 4,
  "nbformat_minor": 0,
  "metadata": {
    "colab": {
      "provenance": []
    },
    "kernelspec": {
      "name": "python3",
      "display_name": "Python 3"
    },
    "language_info": {
      "name": "python"
    }
  },
  "cells": [
    {
      "cell_type": "markdown",
      "source": [
        "##ASSIGNMENT_6\n",
        "\n",
        "1.What are Escape characters ? and how do you use them ?\n",
        "\n",
        "ANS:\n",
        "\n",
        "Escape characters represent characters in string values that would otherwise be difficult or impossible to type into code. we can use the backslash character to escape a single character or symbol.\n",
        "\n",
        "EX: \\t, \\n"
      ],
      "metadata": {
        "id": "XFugzUAaJJyA"
      }
    },
    {
      "cell_type": "markdown",
      "source": [
        "2.What do the escape characters n and t stand for ?\n",
        "\n",
        "ANS: \n",
        "\n",
        "  \\n is a newline, \\t is a tab"
      ],
      "metadata": {
        "id": "Jf5A43XnKrHq"
      }
    },
    {
      "cell_type": "markdown",
      "source": [
        "3.What is the way to include backslash character in a string?\n",
        "\n",
        "ANS:\n",
        "\n",
        " The \\\\ escape character will represent the backslash character in a string."
      ],
      "metadata": {
        "id": "uVTnGuTeLAGu"
      }
    },
    {
      "cell_type": "markdown",
      "source": [
        "\n",
        "4.The string \"Howl's Moving Castle\" is a correct value. Why isn't the single quote character in the word Howl's not escaped a problem ?\n",
        "\n",
        "ANS:\n",
        "The string \"Howl's Moving Castle\" escaped the problem because it is wrapped inside double quotes. if its wrapped inside single quotes then we have to use escape character \\' to show single quote in the final output\n"
      ],
      "metadata": {
        "id": "gR4K4StoLFvS"
      }
    },
    {
      "cell_type": "code",
      "source": [
        "'Howl\\'s Moving Castle' "
      ],
      "metadata": {
        "colab": {
          "base_uri": "https://localhost:8080/",
          "height": 35
        },
        "id": "jzXu0VMpP868",
        "outputId": "54f3e827-2adf-4ea0-8ddb-19418e54e3a2"
      },
      "execution_count": 17,
      "outputs": [
        {
          "output_type": "execute_result",
          "data": {
            "text/plain": [
              "\"Howl's Moving Castle\""
            ],
            "application/vnd.google.colaboratory.intrinsic+json": {
              "type": "string"
            }
          },
          "metadata": {},
          "execution_count": 17
        }
      ]
    },
    {
      "cell_type": "markdown",
      "source": [
        "\n",
        "5.How do you write a string of newlines if you don't want to use the n character?\n",
        "\n",
        "ANS:\n",
        "\n",
        " Multiline string allow you to use newlines in string without the \\n escape character\n",
        "\n",
        "EXAMPLE:\n",
        "\n"
      ],
      "metadata": {
        "id": "7dztGPpNLPPT"
      }
    },
    {
      "cell_type": "code",
      "source": [
        "a = '''HII SRIRAM...\n",
        "WELCOME TO FSDS2.0'''\n",
        "print(a)\n"
      ],
      "metadata": {
        "colab": {
          "base_uri": "https://localhost:8080/"
        },
        "id": "fYRqnTiwLrWN",
        "outputId": "c5ba76ec-8b0d-4f06-b680-4801737e15a8"
      },
      "execution_count": 2,
      "outputs": [
        {
          "output_type": "stream",
          "name": "stdout",
          "text": [
            "HII SRIRAM...\n",
            "WELCOME TO FSDS2.0\n"
          ]
        }
      ]
    },
    {
      "cell_type": "markdown",
      "source": [
        "6.What are the values of the given expressions ?\n",
        "\n",
        "'Hello, world!'[1]\n",
        "\n",
        "'Hello, world!'[0:5]\n",
        "\n",
        "'Hello, world!'[:5]\n",
        "\n",
        "'Hello, world!'[3:]\n",
        "\n",
        "ANS:\n",
        "\n"
      ],
      "metadata": {
        "id": "smAJa_jMLPEo"
      }
    },
    {
      "cell_type": "code",
      "execution_count": 3,
      "metadata": {
        "colab": {
          "base_uri": "https://localhost:8080/",
          "height": 35
        },
        "id": "230Hcmm6_1nx",
        "outputId": "c3cc6846-c12d-4a01-e25f-85b5c0b375ca"
      },
      "outputs": [
        {
          "output_type": "execute_result",
          "data": {
            "text/plain": [
              "'e'"
            ],
            "application/vnd.google.colaboratory.intrinsic+json": {
              "type": "string"
            }
          },
          "metadata": {},
          "execution_count": 3
        }
      ],
      "source": [
        "'Hello, world!'[1]\n"
      ]
    },
    {
      "cell_type": "code",
      "source": [
        "'Hello, world!'[0:5] "
      ],
      "metadata": {
        "colab": {
          "base_uri": "https://localhost:8080/",
          "height": 35
        },
        "id": "nERoUcV1MQM7",
        "outputId": "83db2853-4e8b-4f88-a51a-d12f6dcedd2f"
      },
      "execution_count": 4,
      "outputs": [
        {
          "output_type": "execute_result",
          "data": {
            "text/plain": [
              "'Hello'"
            ],
            "application/vnd.google.colaboratory.intrinsic+json": {
              "type": "string"
            }
          },
          "metadata": {},
          "execution_count": 4
        }
      ]
    },
    {
      "cell_type": "code",
      "source": [
        "'Hello, world!'[:5]"
      ],
      "metadata": {
        "colab": {
          "base_uri": "https://localhost:8080/",
          "height": 35
        },
        "id": "DlI5bDa3MVKT",
        "outputId": "b3976807-d960-4ad4-8c32-f79f614235f5"
      },
      "execution_count": 5,
      "outputs": [
        {
          "output_type": "execute_result",
          "data": {
            "text/plain": [
              "'Hello'"
            ],
            "application/vnd.google.colaboratory.intrinsic+json": {
              "type": "string"
            }
          },
          "metadata": {},
          "execution_count": 5
        }
      ]
    },
    {
      "cell_type": "code",
      "source": [
        "'Hello, world!'[3:]"
      ],
      "metadata": {
        "colab": {
          "base_uri": "https://localhost:8080/",
          "height": 35
        },
        "id": "TTS8k8WkMX5R",
        "outputId": "5acb2d29-dfac-4ac7-d2c2-229c0f4875d1"
      },
      "execution_count": 6,
      "outputs": [
        {
          "output_type": "execute_result",
          "data": {
            "text/plain": [
              "'lo, world!'"
            ],
            "application/vnd.google.colaboratory.intrinsic+json": {
              "type": "string"
            }
          },
          "metadata": {},
          "execution_count": 6
        }
      ]
    },
    {
      "cell_type": "markdown",
      "source": [
        "7.What are the values of the following expressions ?\n",
        "\n",
        "'Hello'.upper()\n",
        "\n",
        "'Hello'.upper().isupper()\n",
        "\n",
        "'Hello'.upper().lower()\n",
        "\n",
        "ANS:\n"
      ],
      "metadata": {
        "id": "-Py59rvWMkwR"
      }
    },
    {
      "cell_type": "code",
      "source": [
        "'Hello'.upper()"
      ],
      "metadata": {
        "colab": {
          "base_uri": "https://localhost:8080/",
          "height": 35
        },
        "id": "XhPkwFPiMbVq",
        "outputId": "07f0d89f-0096-4fb5-8209-4210c2284dd6"
      },
      "execution_count": 7,
      "outputs": [
        {
          "output_type": "execute_result",
          "data": {
            "text/plain": [
              "'HELLO'"
            ],
            "application/vnd.google.colaboratory.intrinsic+json": {
              "type": "string"
            }
          },
          "metadata": {},
          "execution_count": 7
        }
      ]
    },
    {
      "cell_type": "code",
      "source": [
        "'Hello'.upper().isupper()"
      ],
      "metadata": {
        "colab": {
          "base_uri": "https://localhost:8080/"
        },
        "id": "GZ1CbEKjMx_k",
        "outputId": "0c7cdbe4-b3c5-43b1-b0af-1705f8b2616b"
      },
      "execution_count": 8,
      "outputs": [
        {
          "output_type": "execute_result",
          "data": {
            "text/plain": [
              "True"
            ]
          },
          "metadata": {},
          "execution_count": 8
        }
      ]
    },
    {
      "cell_type": "code",
      "source": [
        "'Hello'.upper().lower()"
      ],
      "metadata": {
        "colab": {
          "base_uri": "https://localhost:8080/",
          "height": 35
        },
        "id": "EkUlqjpUM1hN",
        "outputId": "c141797b-a669-4ac1-9f65-bb76fa111498"
      },
      "execution_count": 9,
      "outputs": [
        {
          "output_type": "execute_result",
          "data": {
            "text/plain": [
              "'hello'"
            ],
            "application/vnd.google.colaboratory.intrinsic+json": {
              "type": "string"
            }
          },
          "metadata": {},
          "execution_count": 9
        }
      ]
    },
    {
      "cell_type": "markdown",
      "source": [
        "\n",
        "8.What are the values of the following expressions ?\n",
        "'Remember, remember, the fifith of July.'.split()\n",
        "\n",
        "-'.join('There can only one'.split())\n",
        "\n",
        "ANS:\n"
      ],
      "metadata": {
        "id": "85TI53G4M8CL"
      }
    },
    {
      "cell_type": "code",
      "source": [
        "'Remember, remember, the fifith of July.'.split()\n"
      ],
      "metadata": {
        "colab": {
          "base_uri": "https://localhost:8080/"
        },
        "id": "7RCgbh3MM4VA",
        "outputId": "8f57c227-a2db-4cf0-d5f6-23da91a87f4d"
      },
      "execution_count": 10,
      "outputs": [
        {
          "output_type": "execute_result",
          "data": {
            "text/plain": [
              "['Remember,', 'remember,', 'the', 'fifith', 'of', 'July.']"
            ]
          },
          "metadata": {},
          "execution_count": 10
        }
      ]
    },
    {
      "cell_type": "code",
      "source": [
        "'-'.join('There can only one'.split())"
      ],
      "metadata": {
        "colab": {
          "base_uri": "https://localhost:8080/",
          "height": 35
        },
        "id": "E54uy616NXoF",
        "outputId": "3b8da34d-7994-4beb-a817-f0770e1e939e"
      },
      "execution_count": 13,
      "outputs": [
        {
          "output_type": "execute_result",
          "data": {
            "text/plain": [
              "'There-can-only-one'"
            ],
            "application/vnd.google.colaboratory.intrinsic+json": {
              "type": "string"
            }
          },
          "metadata": {},
          "execution_count": 13
        }
      ]
    },
    {
      "cell_type": "markdown",
      "source": [
        "9.What are the methods for right-justifying, left-justifying and centering a string ?\n",
        "\n",
        "ANS:\n",
        "\n",
        " The rjust(),ljust(),center() string methods."
      ],
      "metadata": {
        "id": "5ENWGrPXNtKr"
      }
    },
    {
      "cell_type": "markdown",
      "source": [
        "10.What is the best way to remove whitespace characters from the start or end ?\n",
        "\n",
        "ANS:\n",
        "\n",
        " The lstrip() and rstrip() methods remove whitesapce characters from the left and right ends of a string.\n"
      ],
      "metadata": {
        "id": "wDRSOH5bOGRG"
      }
    },
    {
      "cell_type": "code",
      "source": [],
      "metadata": {
        "id": "3zBI_WpkNhur"
      },
      "execution_count": 16,
      "outputs": []
    },
    {
      "cell_type": "code",
      "source": [],
      "metadata": {
        "id": "cQ_li42tOtk_"
      },
      "execution_count": null,
      "outputs": []
    }
  ]
}