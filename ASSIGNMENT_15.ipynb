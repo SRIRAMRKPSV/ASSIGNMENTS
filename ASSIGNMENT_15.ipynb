{
  "nbformat": 4,
  "nbformat_minor": 0,
  "metadata": {
    "colab": {
      "provenance": []
    },
    "kernelspec": {
      "name": "python3",
      "display_name": "Python 3"
    },
    "language_info": {
      "name": "python"
    }
  },
  "cells": [
    {
      "cell_type": "markdown",
      "source": [
        "#ASSIGNMENT_15"
      ],
      "metadata": {
        "id": "MtPbxvhMZs2i"
      }
    },
    {
      "cell_type": "markdown",
      "source": [
        "1.How many seconds are in an hour? Use the interactive interpreter as a calculator and multiply the number of seconds in a minute (60) by the number of minutes in an hour (also 60)."
      ],
      "metadata": {
        "id": "4dFFfWnLZrxi"
      }
    },
    {
      "cell_type": "code",
      "execution_count": 1,
      "metadata": {
        "colab": {
          "base_uri": "https://localhost:8080/"
        },
        "id": "xVdmKT5dZmmX",
        "outputId": "7fadd76d-fb95-4e4b-99a1-ef837a0561a9"
      },
      "outputs": [
        {
          "output_type": "stream",
          "name": "stdout",
          "text": [
            "3600\n"
          ]
        }
      ],
      "source": [
        "print(60*60)"
      ]
    },
    {
      "cell_type": "markdown",
      "source": [
        "2. Assign the result from the previous task (seconds in an hour) to a variable called seconds_per_hour."
      ],
      "metadata": {
        "id": "gtcOAes5Z4y9"
      }
    },
    {
      "cell_type": "code",
      "source": [
        "seconds_per_hour = 60*60\n",
        "print(seconds_per_hour)"
      ],
      "metadata": {
        "colab": {
          "base_uri": "https://localhost:8080/"
        },
        "id": "MsbFOHfNZ4Fk",
        "outputId": "0b44cb26-2a9f-4eef-90f6-352cc411cab6"
      },
      "execution_count": 2,
      "outputs": [
        {
          "output_type": "stream",
          "name": "stdout",
          "text": [
            "3600\n"
          ]
        }
      ]
    },
    {
      "cell_type": "markdown",
      "source": [
        "3. How many seconds do you think there are in a day? Make use of the variables seconds per hour and minutes per hour."
      ],
      "metadata": {
        "id": "Ajluo_bwaC0v"
      }
    },
    {
      "cell_type": "code",
      "source": [
        "minutes_per_hour = 60\n",
        "print(seconds_per_hour*24)"
      ],
      "metadata": {
        "colab": {
          "base_uri": "https://localhost:8080/"
        },
        "id": "XKsv9R2RZ_eQ",
        "outputId": "3d147911-1f37-4239-a7e7-8b80cf65c2b4"
      },
      "execution_count": 3,
      "outputs": [
        {
          "output_type": "stream",
          "name": "stdout",
          "text": [
            "86400\n"
          ]
        }
      ]
    },
    {
      "cell_type": "markdown",
      "source": [
        "4. Calculate seconds per day again, but this time save the result in a variable called seconds_per_day\n"
      ],
      "metadata": {
        "id": "ygmJvZzhaH1N"
      }
    },
    {
      "cell_type": "code",
      "source": [
        "seconds_per_day = 24*60*60\n",
        "print(seconds_per_day)"
      ],
      "metadata": {
        "colab": {
          "base_uri": "https://localhost:8080/"
        },
        "id": "BUO8f1fUaHVK",
        "outputId": "887a33d5-9bae-4bbf-e6b6-5888f9eb158f"
      },
      "execution_count": 4,
      "outputs": [
        {
          "output_type": "stream",
          "name": "stdout",
          "text": [
            "86400\n"
          ]
        }
      ]
    },
    {
      "cell_type": "markdown",
      "source": [
        "5. Divide seconds_per_day by seconds_per_hour. Use floating-point (/) division.\n",
        "print(seconds_per_day/seconds_per_hour)"
      ],
      "metadata": {
        "id": "Ezb-G-0saQbk"
      }
    },
    {
      "cell_type": "code",
      "source": [
        "print(seconds_per_day/seconds_per_hour)"
      ],
      "metadata": {
        "colab": {
          "base_uri": "https://localhost:8080/"
        },
        "id": "LmRlo_08aNfH",
        "outputId": "e4a17f82-ac14-4eba-c471-c769af336e7c"
      },
      "execution_count": 5,
      "outputs": [
        {
          "output_type": "stream",
          "name": "stdout",
          "text": [
            "24.0\n"
          ]
        }
      ]
    },
    {
      "cell_type": "markdown",
      "source": [
        "6. Divide seconds_per_day by seconds_per_hour, using integer (//) division. Did this number agree with the floating-point value from the previous question, aside from the final .0?\n"
      ],
      "metadata": {
        "id": "8SRj1FlTaWa4"
      }
    },
    {
      "cell_type": "code",
      "source": [
        "print(seconds_per_day//seconds_per_hour, end='')\n",
        "print(' -> yes this values agree with the floating point value from the previous question')"
      ],
      "metadata": {
        "colab": {
          "base_uri": "https://localhost:8080/"
        },
        "id": "7jxffvqkaTTL",
        "outputId": "99bc427a-c904-4bed-efd8-2e0e53d39d08"
      },
      "execution_count": 6,
      "outputs": [
        {
          "output_type": "stream",
          "name": "stdout",
          "text": [
            "24 -> yes this values agree with the floating point value from the previous question\n"
          ]
        }
      ]
    },
    {
      "cell_type": "markdown",
      "source": [
        "7. Write a generator, genPrimes, that returns the sequence of prime numbers on successive calls to its next() method: 2, 3, 5, 7, 11, ...\n"
      ],
      "metadata": {
        "id": "Pd6B_IwXaXM1"
      }
    },
    {
      "cell_type": "code",
      "source": [
        "def genPrimes():\n",
        "    n = 0\n",
        "    while True:\n",
        "        if n == 2 or n == 3 :\n",
        "            yield n\n",
        "        elif ((n-1)%6 == 0 or (n+1)%6 == 0) and n !=1:\n",
        "            yield n\n",
        "        n = n+1\n",
        "        \n",
        "output = genPrimes()\n",
        "for ele in range(5):\n",
        "    print(next(output))"
      ],
      "metadata": {
        "colab": {
          "base_uri": "https://localhost:8080/"
        },
        "id": "eE5hQ1Mzad0z",
        "outputId": "a6ec49e9-888b-4459-83dd-2e5220698fce"
      },
      "execution_count": 7,
      "outputs": [
        {
          "output_type": "stream",
          "name": "stdout",
          "text": [
            "2\n",
            "3\n",
            "5\n",
            "7\n",
            "11\n"
          ]
        }
      ]
    },
    {
      "cell_type": "code",
      "source": [],
      "metadata": {
        "id": "iU03SEWVajZx"
      },
      "execution_count": null,
      "outputs": []
    }
  ]
}