{
  "nbformat": 4,
  "nbformat_minor": 0,
  "metadata": {
    "colab": {
      "provenance": []
    },
    "kernelspec": {
      "name": "python3",
      "display_name": "Python 3"
    },
    "language_info": {
      "name": "python"
    }
  },
  "cells": [
    {
      "cell_type": "markdown",
      "source": [
        "#Assignment 10 \n",
        "1. How do you distinguish between shutil.copy() and shutil.copytree()?\n",
        "\n",
        "ANS:\n",
        "\n",
        " `shutil.copy()` method is used to copy the contents of a file from one file to another file/folder, it primary takes two arguments `src,dest, src` represents the file to be copied where as destination refers to the file/folder to where the `src` data should be copied, if `dest` is a folder name the src with exact name will be copied to the` dest` folder, if its a file then the contents of src will be copied to `dest` where `dest` retains it name.\n",
        "\n",
        "`shutil.copytree()` function is used to copy the entire contents of a folder to other folder. it also takes two arguments `src & dest`, it copies all the content recursively and stores it in `dest`. the important catch here is `dest` must not exist prior to this and it will be created during the copy operation. Permissions and times of directories are copied with `shutil.copystat()` and individual files are copied using `shutil.copy2()` by default which can be modified using copy_function attribute."
      ],
      "metadata": {
        "id": "-XUFQ3vWsFKa"
      }
    },
    {
      "cell_type": "markdown",
      "source": [
        "2. What function is used to rename files??\n",
        "\n",
        "ANS:\n",
        "\n",
        " os.rename() function is used to rename files or directories using a python program, this function takes two arguments src and dest, src represents the name file/directory which we want to rename, whereas dest represents the new name of the file/directory."
      ],
      "metadata": {
        "id": "sAG99D2ys4gc"
      }
    },
    {
      "cell_type": "markdown",
      "source": [
        "3. What is the difference between the delete functions in the send2trash and shutil modules?\n",
        "\n",
        "ANS:\n",
        "\n",
        " Shutil module provides a funciton called as shutil.rmtree() which deletes \n",
        "a directory and all its contents. The other functions with similar functionality are os.remove() -> removes a file, os.rmdir() removes a empty directory. The problem with these functions is once a file is deleted. it will be lost permanently, if a file is deleted accidentally using these methods there is no way we can recover the deleted file  \n",
        "\n",
        "\n",
        "Where as send2trash module provides a function called send2trash.send2trash() to delete a file/directory. these methods moves the files/directories to trash folder instead of permanently deleting them. hence if a file/folder is deleted accidentally it can be still recovered from trash folder, if is deleted using the send2trash.send2trash() function. send2trash is not included with python standard libary like os & shutil modules. it needs to be installed explicitly using the command !pip install send2trash"
      ],
      "metadata": {
        "id": "-4I3l6j2s93j"
      }
    },
    {
      "cell_type": "markdown",
      "source": [
        "4.ZipFile objects have a close() method just like File objects’ close() method. What ZipFile method is equivalent to File objects’ open() method?\n",
        "\n",
        "ANS:\n",
        "\n",
        " ZipFile Module provides a method called as zipfile.ZipFile() to read and write to zipFiles. it takes arugments lile filename and mode etc\n",
        " zipfile.ZipFile('filename', mode = 'r')"
      ],
      "metadata": {
        "id": "P2fpLGm9tmKS"
      }
    },
    {
      "cell_type": "markdown",
      "source": [
        "5. Create a programme that searches a folder tree for files with a certain file extension (such as .pdf or .jpg). Copy these files from whatever location they are in to a new folder"
      ],
      "metadata": {
        "id": "R4HwDgcCt6QI"
      }
    },
    {
      "cell_type": "code",
      "execution_count": 36,
      "metadata": {
        "colab": {
          "base_uri": "https://localhost:8080/"
        },
        "id": "eLhS6bR5r84K",
        "outputId": "2189ded8-9011-4d6a-b383-c7f5566e2e2e"
      },
      "outputs": [
        {
          "output_type": "stream",
          "name": "stdout",
          "text": [
            "Copied file 1: /content/paper1.pdf to /content/new\n",
            "Total files copied: 1\n"
          ]
        }
      ],
      "source": [
        "import os\n",
        "import shutil\n",
        "\n",
        "# Define the folder to search for files with the specified extension\n",
        "folder_to_search = \"/content\"\n",
        "\n",
        "# Define the file extension to search for\n",
        "file_extension = \".pdf\"\n",
        "\n",
        "# Define the folder to copy the files to\n",
        "destination_folder = \"/content/new\"\n",
        "\n",
        "# Initialize a counter to keep track of the number of files copied\n",
        "count = 0\n",
        "\n",
        "# Loop through all the files and directories in the folder tree\n",
        "for root, dirs, files in os.walk(folder_to_search):\n",
        "    # Loop through all the files in the current directory\n",
        "    for file in files:\n",
        "        # Check if the file has the specified extension\n",
        "        if file.endswith(file_extension):\n",
        "            # Construct the full path to the file\n",
        "            file_path = os.path.join(root, file)\n",
        "            # Copy the file to the destination folder\n",
        "            shutil.copy(file_path, destination_folder)\n",
        "            # Increment the counter\n",
        "            count += 1\n",
        "            # Print the output\n",
        "            print(f\"Copied file {count}: {file_path} to {destination_folder}\")\n",
        "\n",
        "# Print the final count of files copied\n",
        "print(f\"Total files copied: {count}\")\n"
      ]
    },
    {
      "cell_type": "code",
      "source": [
        "\n"
      ],
      "metadata": {
        "id": "VLH6Tk65xFBc"
      },
      "execution_count": 31,
      "outputs": []
    }
  ]
}