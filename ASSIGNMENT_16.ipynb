{
  "nbformat": 4,
  "nbformat_minor": 0,
  "metadata": {
    "colab": {
      "provenance": []
    },
    "kernelspec": {
      "name": "python3",
      "display_name": "Python 3"
    },
    "language_info": {
      "name": "python"
    }
  },
  "cells": [
    {
      "cell_type": "markdown",
      "source": [
        "#ASSIGNMENT_16"
      ],
      "metadata": {
        "id": "sOUKVvP9209o"
      }
    },
    {
      "cell_type": "markdown",
      "source": [
        "1. Create a list called years_list, starting with the year of your birth, and each year thereafter until the year of your fifth birthday. For example, if you were born in 1980. the list would be years_list = [1980, 1981, 1982, 1983, 1984, 1985].\n"
      ],
      "metadata": {
        "id": "U4Z-m3qM3KVb"
      }
    },
    {
      "cell_type": "code",
      "execution_count": 1,
      "metadata": {
        "colab": {
          "base_uri": "https://localhost:8080/"
        },
        "id": "5CE9M5vo1HaW",
        "outputId": "74ba9811-24f1-4fbe-d006-65126fb21823"
      },
      "outputs": [
        {
          "output_type": "stream",
          "name": "stdout",
          "text": [
            "[1997, 1998, 1999, 2000, 2001, 2002]\n"
          ]
        }
      ],
      "source": [
        "years_list = [ele for ele in range(1997,1997+6)]\n",
        "print(years_list)"
      ]
    },
    {
      "cell_type": "markdown",
      "source": [
        "2. In which year in years_list was your third birthday? Remember, you were 0 years of age for your first year.\n"
      ],
      "metadata": {
        "id": "zB1CToea20Ok"
      }
    },
    {
      "cell_type": "code",
      "source": [
        "print(years_list[3])"
      ],
      "metadata": {
        "colab": {
          "base_uri": "https://localhost:8080/"
        },
        "id": "IWDbDsgo3U9S",
        "outputId": "4478f334-0c9d-450c-9baf-d7a0b17228b5"
      },
      "execution_count": 2,
      "outputs": [
        {
          "output_type": "stream",
          "name": "stdout",
          "text": [
            "2000\n"
          ]
        }
      ]
    },
    {
      "cell_type": "markdown",
      "source": [
        "3.In the years list, which year were you the oldest?\n"
      ],
      "metadata": {
        "id": "XT2jSBWY3ds7"
      }
    },
    {
      "cell_type": "code",
      "source": [
        "print(years_list[-1])"
      ],
      "metadata": {
        "colab": {
          "base_uri": "https://localhost:8080/"
        },
        "id": "7XW3rJpS3fjO",
        "outputId": "081d500e-6f7c-40da-cc01-b18c6808f123"
      },
      "execution_count": 3,
      "outputs": [
        {
          "output_type": "stream",
          "name": "stdout",
          "text": [
            "2002\n"
          ]
        }
      ]
    },
    {
      "cell_type": "markdown",
      "source": [
        "4. Make a list called things with these three strings as elements: \"mozzarella\", \"cinderella\", \"salmonella\".\n"
      ],
      "metadata": {
        "id": "YUpUI4rO3nG1"
      }
    },
    {
      "cell_type": "code",
      "source": [
        "things = [ele+'ella' for ele in ['mozzar','cinder','salmon']]\n",
        "print(things)"
      ],
      "metadata": {
        "colab": {
          "base_uri": "https://localhost:8080/"
        },
        "id": "Vhmu3E-13gv_",
        "outputId": "64b6fc2b-435c-4071-bade-ab642f8c1c4f"
      },
      "execution_count": 4,
      "outputs": [
        {
          "output_type": "stream",
          "name": "stdout",
          "text": [
            "['mozzarella', 'cinderella', 'salmonella']\n"
          ]
        }
      ]
    },
    {
      "cell_type": "markdown",
      "source": [
        "5. Capitalize the element in things that refers to a person and then print the list. Did it change the element in the list?\n"
      ],
      "metadata": {
        "id": "e6XvxbME3s9X"
      }
    },
    {
      "cell_type": "code",
      "source": [
        "for ele in range(len(things)):\n",
        "    if things[ele] == 'cinderella':\n",
        "        things[ele] = things[ele].capitalize()\n",
        "print(things)"
      ],
      "metadata": {
        "colab": {
          "base_uri": "https://localhost:8080/"
        },
        "id": "j7HN8sjJ3grP",
        "outputId": "c4f89c73-fe27-4c48-c0b2-a0cbcde40fd5"
      },
      "execution_count": 5,
      "outputs": [
        {
          "output_type": "stream",
          "name": "stdout",
          "text": [
            "['mozzarella', 'Cinderella', 'salmonella']\n"
          ]
        }
      ]
    },
    {
      "cell_type": "markdown",
      "source": [
        "6. Make a surprise list with the elements \"Groucho,\" \"Chico,\" and \"Harpo.\"\n"
      ],
      "metadata": {
        "id": "EXabbow24Z71"
      }
    },
    {
      "cell_type": "code",
      "source": [
        "suprise_list = ['Groucho','Chico','Harpo']\n",
        "print(suprise_list)"
      ],
      "metadata": {
        "colab": {
          "base_uri": "https://localhost:8080/"
        },
        "id": "Lctu3fzw3gqC",
        "outputId": "4b133387-96b8-4b9b-a91b-0132d20d5b2c"
      },
      "execution_count": 6,
      "outputs": [
        {
          "output_type": "stream",
          "name": "stdout",
          "text": [
            "['Groucho', 'Chico', 'Harpo']\n"
          ]
        }
      ]
    },
    {
      "cell_type": "markdown",
      "source": [
        "7. Lowercase the last element of the surprise list, reverse it, and then capitalize it.\n"
      ],
      "metadata": {
        "id": "vQgrB_c34gMz"
      }
    },
    {
      "cell_type": "code",
      "source": [
        "print(suprise_list[-1].lower()[::-1].capitalize())"
      ],
      "metadata": {
        "colab": {
          "base_uri": "https://localhost:8080/"
        },
        "id": "_A7aNF8K3glU",
        "outputId": "0e44de00-f3a1-4cc0-e167-1e734df4c0a2"
      },
      "execution_count": 7,
      "outputs": [
        {
          "output_type": "stream",
          "name": "stdout",
          "text": [
            "Oprah\n"
          ]
        }
      ]
    },
    {
      "cell_type": "markdown",
      "source": [
        "8. Make an English-to-French dictionary called e2f and print it. Here are your starter words: dog is chien, cat is chat, and walrus is morse.\n"
      ],
      "metadata": {
        "id": "9wy7vmfe4loM"
      }
    },
    {
      "cell_type": "code",
      "source": [
        "e2f = {'dog':'chien','cat':'chat','walrus':'morse'}\n",
        "print(e2f)"
      ],
      "metadata": {
        "colab": {
          "base_uri": "https://localhost:8080/"
        },
        "id": "l6MGtfEO3gkF",
        "outputId": "46e408d0-b868-49ea-bc9a-7ff45858fd6f"
      },
      "execution_count": 8,
      "outputs": [
        {
          "output_type": "stream",
          "name": "stdout",
          "text": [
            "{'dog': 'chien', 'cat': 'chat', 'walrus': 'morse'}\n"
          ]
        }
      ]
    },
    {
      "cell_type": "markdown",
      "source": [
        "9. Write the French word for walrus in your three-word dictionary e2f.\n"
      ],
      "metadata": {
        "id": "xvB8N_P04qNS"
      }
    },
    {
      "cell_type": "code",
      "source": [
        "print(e2f.get('walrus'))"
      ],
      "metadata": {
        "colab": {
          "base_uri": "https://localhost:8080/"
        },
        "id": "Jy3OaPoh3gfO",
        "outputId": "730aabc2-902a-4681-d814-9c988d3e2eff"
      },
      "execution_count": 9,
      "outputs": [
        {
          "output_type": "stream",
          "name": "stdout",
          "text": [
            "morse\n"
          ]
        }
      ]
    },
    {
      "cell_type": "markdown",
      "source": [
        "10. Make a French-to-English dictionary called f2e from e2f. Use the items method.\n"
      ],
      "metadata": {
        "id": "i2u2_nDL4uEP"
      }
    },
    {
      "cell_type": "code",
      "source": [
        "f2e = dict([ele[::-1] for ele in e2f.items()])\n",
        "print(f2e)"
      ],
      "metadata": {
        "colab": {
          "base_uri": "https://localhost:8080/"
        },
        "id": "bv22MZhz3gd8",
        "outputId": "80bb78cd-2eba-4b6d-edae-896affbb0d7f"
      },
      "execution_count": 10,
      "outputs": [
        {
          "output_type": "stream",
          "name": "stdout",
          "text": [
            "{'chien': 'dog', 'chat': 'cat', 'morse': 'walrus'}\n"
          ]
        }
      ]
    },
    {
      "cell_type": "markdown",
      "source": [
        "11. Print the English version of the French word chien using f2e.\n"
      ],
      "metadata": {
        "id": "QO19A9RJ40zF"
      }
    },
    {
      "cell_type": "code",
      "source": [
        "print(f2e.get('chien'))"
      ],
      "metadata": {
        "colab": {
          "base_uri": "https://localhost:8080/"
        },
        "id": "sP2PuXZ_3gOe",
        "outputId": "fc45fd58-70f6-4992-e099-09f50934ebad"
      },
      "execution_count": 11,
      "outputs": [
        {
          "output_type": "stream",
          "name": "stdout",
          "text": [
            "dog\n"
          ]
        }
      ]
    },
    {
      "cell_type": "markdown",
      "source": [
        "12. Make and print a set of English words from the keys in e2f.\n"
      ],
      "metadata": {
        "id": "_QN2kjN84662"
      }
    },
    {
      "cell_type": "code",
      "source": [
        "print(list(e2f.keys()))"
      ],
      "metadata": {
        "colab": {
          "base_uri": "https://localhost:8080/"
        },
        "id": "GyAZA4sA3aRW",
        "outputId": "79b1bddd-77d1-4a39-9bfc-f2b87c443873"
      },
      "execution_count": 12,
      "outputs": [
        {
          "output_type": "stream",
          "name": "stdout",
          "text": [
            "['dog', 'cat', 'walrus']\n"
          ]
        }
      ]
    },
    {
      "cell_type": "markdown",
      "source": [
        "13. Make a multilevel dictionary called life. Use these strings for the topmost keys: 'animals', 'plants', and 'other'. Make the 'animals' key refer to another dictionary with the keys 'cats', 'octopi', and 'emus'. Make the 'cats' key refer to a list of strings with the values 'Henri', 'Grumpy', and 'Lucy'. Make all the other keys refer to empty dictionaries.\n"
      ],
      "metadata": {
        "id": "9BTotQli5BeA"
      }
    },
    {
      "cell_type": "code",
      "source": [
        "life = {\n",
        "    'animals':{\n",
        "        'cats':['Henri','Grumpy','Lucy'],\n",
        "        'octopi':{},\n",
        "        'emus':{}\n",
        "    },\n",
        "    'plants':{},\n",
        "    'other':{}\n",
        "}\n",
        "print(life)"
      ],
      "metadata": {
        "colab": {
          "base_uri": "https://localhost:8080/"
        },
        "id": "DaasmABj4-Ok",
        "outputId": "f0b66718-f300-4bc3-c2b2-32cc98046e4d"
      },
      "execution_count": 13,
      "outputs": [
        {
          "output_type": "stream",
          "name": "stdout",
          "text": [
            "{'animals': {'cats': ['Henri', 'Grumpy', 'Lucy'], 'octopi': {}, 'emus': {}}, 'plants': {}, 'other': {}}\n"
          ]
        }
      ]
    },
    {
      "cell_type": "markdown",
      "source": [
        "14. Print the top-level keys of life.\n"
      ],
      "metadata": {
        "id": "4K4Shdla5HxI"
      }
    },
    {
      "cell_type": "code",
      "source": [
        "print(list(life.keys()))"
      ],
      "metadata": {
        "colab": {
          "base_uri": "https://localhost:8080/"
        },
        "id": "ggA1hlWG5E8X",
        "outputId": "d6842dc7-22ab-4e6f-fa7b-898c7d1d4d86"
      },
      "execution_count": 14,
      "outputs": [
        {
          "output_type": "stream",
          "name": "stdout",
          "text": [
            "['animals', 'plants', 'other']\n"
          ]
        }
      ]
    },
    {
      "cell_type": "markdown",
      "source": [
        "15. Print the keys for life['animals'].\n"
      ],
      "metadata": {
        "id": "et7afTPX5M5-"
      }
    },
    {
      "cell_type": "code",
      "source": [
        "print(list(life['animals'].keys()))"
      ],
      "metadata": {
        "colab": {
          "base_uri": "https://localhost:8080/"
        },
        "id": "4iamNRGz5KC6",
        "outputId": "b9fa29b4-1af0-46a2-debe-ee71efa32e0c"
      },
      "execution_count": 15,
      "outputs": [
        {
          "output_type": "stream",
          "name": "stdout",
          "text": [
            "['cats', 'octopi', 'emus']\n"
          ]
        }
      ]
    },
    {
      "cell_type": "markdown",
      "source": [
        "16. Print the values for life['animals']['cats']\n"
      ],
      "metadata": {
        "id": "pwFH07iz5Sq8"
      }
    },
    {
      "cell_type": "code",
      "source": [
        "print(life['animals']['cats'])"
      ],
      "metadata": {
        "colab": {
          "base_uri": "https://localhost:8080/"
        },
        "id": "mGwicDfH5Pgt",
        "outputId": "a6ee9e6f-f9db-4490-b23c-d988e5444083"
      },
      "execution_count": 16,
      "outputs": [
        {
          "output_type": "stream",
          "name": "stdout",
          "text": [
            "['Henri', 'Grumpy', 'Lucy']\n"
          ]
        }
      ]
    },
    {
      "cell_type": "code",
      "source": [],
      "metadata": {
        "id": "EkqNpD-a5WVz"
      },
      "execution_count": null,
      "outputs": []
    }
  ]
}