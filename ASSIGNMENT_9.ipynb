{
  "nbformat": 4,
  "nbformat_minor": 0,
  "metadata": {
    "colab": {
      "provenance": []
    },
    "kernelspec": {
      "name": "python3",
      "display_name": "Python 3"
    },
    "language_info": {
      "name": "python"
    }
  },
  "cells": [
    {
      "cell_type": "markdown",
      "source": [
        "# Assignment_9 \n",
        "1.To what does a relative path refer ?\n",
        "\n",
        "ANS:\n",
        " \n",
        " The relative path is the path to some file with respect to your current working directory (PWD).\n",
        " \n",
        "#For example: \n",
        "   if Absolute path to a file called stuff.txt is: C:/users/SRI/documents/stuff.txt If my PWD is C:/users/SRI/ , then the relative path to stuff.txt would be: documents/stuff.txt\n",
        "#Note:\n",
        "\n",
        "  PWD + relative path = absolute path\n",
        "\n",
        "  \n",
        "  \n",
        " "
      ],
      "metadata": {
        "id": "sVwDePlDiAA0"
      }
    },
    {
      "cell_type": "markdown",
      "source": [
        " 2.Where does an absolute path start    with your Operating System ?\n",
        "\n",
        "ANS: \n",
        "\n",
        "In Linux based systems the absolute path starts with \"/\". Where as in Windows based systems absolute path starts with \"C:\"\n"
      ],
      "metadata": {
        "id": "wwISbQeljNE2"
      }
    },
    {
      "cell_type": "markdown",
      "source": [
        "\n",
        "3.What does the functions os.getcwd() and os.chdir() do ?\n",
        "\n",
        "ANS:\n",
        "\n",
        " os.getcwd() method tells us the location of current working directory (CWD). Whereas os.chdir() method in Python used to change the current working directory to specified path. These functions are similar to linux commands pwd and cd"
      ],
      "metadata": {
        "id": "M0EySzxzjZyP"
      }
    },
    {
      "cell_type": "code",
      "execution_count": 37,
      "metadata": {
        "colab": {
          "base_uri": "https://localhost:8080/"
        },
        "id": "O9zSPPByR5cU",
        "outputId": "446f02c3-f5f8-47c9-a7a3-8c306c401853"
      },
      "outputs": [
        {
          "output_type": "stream",
          "name": "stdout",
          "text": [
            "/content\n",
            "/content/sample_data\n"
          ]
        }
      ],
      "source": [
        "import os\n",
        "print(os.getcwd())\n",
        "\n",
        "os.chdir(\"/content/sample_data\")\n",
        "print(os.getcwd())\n"
      ]
    },
    {
      "cell_type": "markdown",
      "source": [
        "4.What are . and .. folders ?\n",
        "\n",
        "ANS:\n",
        "\n",
        " \" . \" Represents the Current Directory Whereas \" .. \" Represents the Parent Directory of the Current Directory.\n",
        "For Example:\n",
        "\n",
        " if the below path is my absolute path:\n",
        "\n",
        "C:\\\\Users\\\\SRIRAM\\\\Documents\n",
        "\n",
        "Then . represents the path\n",
        "\n",
        "C:\\\\Users\\\\SRIRAM\\\\Documents\n",
        "\n",
        "Where as .. represents the path\n",
        "\n",
        " C:\\\\Users\\\\SRIRAM\n"
      ],
      "metadata": {
        "id": "u_Q67aSKj8i6"
      }
    },
    {
      "cell_type": "markdown",
      "source": [
        "5.In C:\\bacon\\eggs\\spam.txt which part is the dir name and which part is the base name ?\n",
        "\n",
        "ANS:\n",
        "\n",
        " For C:\\bacon\\eggs\\spam.txt\n",
        "\n",
        "The dir name is C:\\\\bacon\\\\eggs\n",
        "\n",
        "The Base name is spam.txt"
      ],
      "metadata": {
        "id": "YJBu-Ypsp_VZ"
      }
    },
    {
      "cell_type": "markdown",
      "source": [
        "6.What are the three mode arguments that can be passed to the open() function ?\n",
        "\n",
        "ANS:\n",
        "\n",
        " A file can be Accessed in python using open() function. open function takes two arguments filename and mode of operation (optional). if mode is not provided the default mode of opening is read mode\n",
        "So, the syntax being: open(filename, mode)\n",
        "\n",
        "‘r’ – Read Mode: This is the default mode for open(). The file is opened and a pointer is positioned at the beginning of the file’s content.\n",
        "\n",
        "‘w’ – Write Mode: Using this mode will overwrite any existing content in a file. If the given file does not exist, a new one will be created.\n",
        "\n",
        "‘r+’ – Read/Write Mode: Use this mode if you need to simultaneously read and write to a file.\n",
        "\n",
        "‘a’ – Append Mode: With this mode the user can append the data without overwriting any already existing data in the file.\n",
        "\n",
        "‘a+’ – Append and Read Mode: In this mode you can read and append the data without overwriting the original file.\n",
        "\n",
        "‘x’ – Exclusive Creating Mode: This mode is for the sole purpose of creating new files. Use this mode if you know the file to be written doesn’t exist beforehand."
      ],
      "metadata": {
        "id": "QjjL0NVmqOi-"
      }
    },
    {
      "cell_type": "markdown",
      "source": [],
      "metadata": {
        "id": "CfoVulcRqiJa"
      }
    },
    {
      "cell_type": "markdown",
      "source": [
        "7.What happens if an existing file is opened in write mode ?\n",
        "\n",
        "ANS:\n",
        "\n",
        "Using this mode will overwrite any existing content in a file. If the given file does not exist, a new one will be created."
      ],
      "metadata": {
        "id": "oY8hIthJqpks"
      }
    },
    {
      "cell_type": "markdown",
      "source": [
        "8.How do you tell the difference between read() and readlines() ?\n",
        "\n",
        "ANS:\n",
        "\n",
        " The main difference is that read() will read the whole file at once and then print out the first characters that take up as many bytes as you specify in the parenthesis\n",
        "\n",
        "-Whereas the \"readline()\" that will read and print out\n",
        "only the first characters that take up as many bytes as you specify in the parenthesis. You may want to use readline() when you're reading files that are too big for your RAM.\n",
        "\n",
        "-The \"read() \" would treat each character in the file separately, meaning that the iteration would happen for every character.\n",
        "\n",
        "--The \"readline()\" function, on the other hand, only reads a single line of the file. This means that if the first line of the file were three lines long, the readline() function would only parse (or iterate/operate) on the first line of the file."
      ],
      "metadata": {
        "id": "V_ie7J9UqwvA"
      }
    },
    {
      "cell_type": "markdown",
      "source": [
        "9.What data structure does a shelf value resemble ?\n",
        "\n",
        "ANS:\n",
        "\n",
        " it contains key and values it represents dictionary."
      ],
      "metadata": {
        "id": "QKs3nmrirgUj"
      }
    },
    {
      "cell_type": "code",
      "source": [],
      "metadata": {
        "id": "ZqhuSGiepU3R"
      },
      "execution_count": null,
      "outputs": []
    }
  ]
}